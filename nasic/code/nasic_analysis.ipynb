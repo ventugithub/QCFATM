{
 "cells": [
  {
   "cell_type": "markdown",
   "metadata": {},
   "source": [
    "### Prolem size estimation ###"
   ]
  },
  {
   "cell_type": "code",
   "execution_count": 14,
   "metadata": {
    "collapsed": true
   },
   "outputs": [],
   "source": [
    "import matplotlib.pyplot as plt\n",
    "import math\n",
    "import numpy as np"
   ]
  },
  {
   "cell_type": "code",
   "execution_count": 68,
   "metadata": {
    "collapsed": false
   },
   "outputs": [],
   "source": [
    "def sizeBinary(b, M):\n",
    "    I = len(b)\n",
    "    J = len(M)\n",
    "    Di = np.ceil(np.log2(b)).astype(int)\n",
    "    Dj = np.ceil(np.log2(np.maximum(b.sum() - M, np.ones_like(M)))).astype(int)\n",
    "    D = np.ceil(np.log2(b.sum() - 1)).astype(int)\n",
    "    r = 3 * Di.sum()\n",
    "    r = r + Dj.sum()\n",
    "    r = r + D.sum()\n",
    "    return r"
   ]
  },
  {
   "cell_type": "code",
   "execution_count": 69,
   "metadata": {
    "collapsed": true
   },
   "outputs": [],
   "source": [
    "def sizeUnary(b, M):\n",
    "    I = len(b)\n",
    "    J = len(M)\n",
    "    r = 3 * b.sum() + M.sum() + I * J * (b.sum() - 1)\n",
    "    return r"
   ]
  },
  {
   "cell_type": "code",
   "execution_count": 74,
   "metadata": {
    "collapsed": false
   },
   "outputs": [],
   "source": [
    "# loop over number of airfields\n",
    "Ni = 80\n",
    "ru_max = np.zeros(Ni + 1)\n",
    "rb_max = np.zeros(Ni + 1)\n",
    "ru_mean = np.zeros(Ni + 1)\n",
    "rb_mean = np.zeros(Ni + 1)\n",
    "ru_min = np.zeros(Ni + 1)\n",
    "rb_min = np.zeros(Ni + 1)\n",
    "\n",
    "Nr = 1000\n",
    "rbs = np.zeros(Nr)\n",
    "rus = np.zeros(Nr)\n",
    "for I in range(2, Ni + 1):\n",
    "    J =  3 * I\n",
    "    Mmin = 1\n",
    "    Mmax = 5\n",
    "    bmin = 1\n",
    "    bmax = 10\n",
    "\n",
    "    # repeat random values in range defined above for b and M\n",
    "    for n in range(Nr):\n",
    "        b = np.random.randint(bmin, bmax, I)\n",
    "        M = np.random.randint(Mmin, Mmax, J)\n",
    "        rbs[n] = sizeBinary(b, M)\n",
    "        rus[n] = sizeUnary(b, M)\n",
    "    ru_max[I] = rus.max()\n",
    "    rb_max[I] = rbs.max()\n",
    "    ru_min[I] = rus.min()\n",
    "    rb_min[I] = rbs.min()\n",
    "    ru_mean[I] = np.mean(rus)\n",
    "    rb_mean[I] = np.mean(rbs)    "
   ]
  },
  {
   "cell_type": "code",
   "execution_count": 73,
   "metadata": {
    "collapsed": false
   },
   "outputs": [],
   "source": [
    "plt.plot(ru_mean, c='b', label='unary mean')\n",
    "plt.plot(ru_max, c='b', ls='--', label='unary max')\n",
    "plt.plot(ru_min, c='b', ls='--', label='unary min')\n",
    "\n",
    "plt.plot(rb_mean, c='r', label='binary mean')\n",
    "plt.plot(rb_max, c='r', ls='--', label='binary max')\n",
    "plt.plot(rb_min, c='r', ls='--', label='binary min')\n",
    "\n",
    "plt.xlabel('$I$', fontsize=20)\n",
    "plt.ylabel('Number of binary variables', fontsize=20)\n",
    "plt.ylim(0, 2000)\n",
    "plt.legend()\n",
    "plt.show()"
   ]
  },
  {
   "cell_type": "code",
   "execution_count": 75,
   "metadata": {
    "collapsed": false
   },
   "outputs": [],
   "source": [
    "plt.plot(rb_mean, c='r', label='binary mean')\n",
    "plt.plot(rb_max, c='r', ls='--', label='binary max')\n",
    "plt.plot(rb_min, c='r', ls='--', label='binary min')\n",
    "\n",
    "plt.xlabel('$I$', fontsize=20)\n",
    "plt.ylabel('Number of binary variables', fontsize=20)\n",
    "plt.legend(loc='lower right')\n",
    "plt.show()"
   ]
  },
  {
   "cell_type": "code",
   "execution_count": 51,
   "metadata": {
    "collapsed": true
   },
   "outputs": [],
   "source": [
    "np.log2?"
   ]
  },
  {
   "cell_type": "code",
   "execution_count": null,
   "metadata": {
    "collapsed": true
   },
   "outputs": [],
   "source": []
  }
 ],
 "metadata": {
  "kernelspec": {
   "display_name": "Python 2",
   "language": "python",
   "name": "python2"
  },
  "language_info": {
   "codemirror_mode": {
    "name": "ipython",
    "version": 2
   },
   "file_extension": ".py",
   "mimetype": "text/x-python",
   "name": "python",
   "nbconvert_exporter": "python",
   "pygments_lexer": "ipython2",
   "version": "2.7.6"
  }
 },
 "nbformat": 4,
 "nbformat_minor": 0
}
