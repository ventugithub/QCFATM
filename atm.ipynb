{
 "cells": [
  {
   "cell_type": "code",
   "execution_count": 9,
   "metadata": {
    "collapsed": false
   },
   "outputs": [],
   "source": [
    "import pandas as pd\n",
    "import numpy as np\n",
    "import matplotlib.pyplot as plt\n",
    "from mpl_toolkits.basemap import Basemap"
   ]
  },
  {
   "cell_type": "code",
   "execution_count": 10,
   "metadata": {
    "collapsed": false
   },
   "outputs": [
    {
     "data": {
      "text/html": [
       "<div>\n",
       "<table border=\"1\" class=\"dataframe\">\n",
       "  <thead>\n",
       "    <tr style=\"text-align: right;\">\n",
       "      <th></th>\n",
       "      <th>flight</th>\n",
       "      <th>date</th>\n",
       "      <th>wind</th>\n",
       "      <th>time</th>\n",
       "      <th>speed</th>\n",
       "      <th>altitude</th>\n",
       "      <th>latitude</th>\n",
       "      <th>longitude</th>\n",
       "    </tr>\n",
       "  </thead>\n",
       "  <tbody>\n",
       "    <tr>\n",
       "      <th>0</th>\n",
       "      <td>845.0</td>\n",
       "      <td>28.0</td>\n",
       "      <td>0.0</td>\n",
       "      <td>1.0</td>\n",
       "      <td>470.31621</td>\n",
       "      <td>39000.0</td>\n",
       "      <td>40.692500</td>\n",
       "      <td>-74.168667</td>\n",
       "    </tr>\n",
       "    <tr>\n",
       "      <th>1</th>\n",
       "      <td>845.0</td>\n",
       "      <td>28.0</td>\n",
       "      <td>0.0</td>\n",
       "      <td>2.0</td>\n",
       "      <td>470.31621</td>\n",
       "      <td>39000.0</td>\n",
       "      <td>40.784686</td>\n",
       "      <td>-74.019193</td>\n",
       "    </tr>\n",
       "    <tr>\n",
       "      <th>2</th>\n",
       "      <td>845.0</td>\n",
       "      <td>28.0</td>\n",
       "      <td>0.0</td>\n",
       "      <td>3.0</td>\n",
       "      <td>470.31621</td>\n",
       "      <td>39000.0</td>\n",
       "      <td>40.877281</td>\n",
       "      <td>-73.868705</td>\n",
       "    </tr>\n",
       "    <tr>\n",
       "      <th>3</th>\n",
       "      <td>845.0</td>\n",
       "      <td>28.0</td>\n",
       "      <td>0.0</td>\n",
       "      <td>4.0</td>\n",
       "      <td>470.31621</td>\n",
       "      <td>39000.0</td>\n",
       "      <td>40.969822</td>\n",
       "      <td>-73.717979</td>\n",
       "    </tr>\n",
       "    <tr>\n",
       "      <th>4</th>\n",
       "      <td>845.0</td>\n",
       "      <td>28.0</td>\n",
       "      <td>0.0</td>\n",
       "      <td>5.0</td>\n",
       "      <td>470.31621</td>\n",
       "      <td>39000.0</td>\n",
       "      <td>41.062186</td>\n",
       "      <td>-73.566848</td>\n",
       "    </tr>\n",
       "  </tbody>\n",
       "</table>\n",
       "</div>"
      ],
      "text/plain": [
       "   flight  date  wind  time      speed  altitude   latitude  longitude\n",
       "0   845.0  28.0   0.0   1.0  470.31621   39000.0  40.692500 -74.168667\n",
       "1   845.0  28.0   0.0   2.0  470.31621   39000.0  40.784686 -74.019193\n",
       "2   845.0  28.0   0.0   3.0  470.31621   39000.0  40.877281 -73.868705\n",
       "3   845.0  28.0   0.0   4.0  470.31621   39000.0  40.969822 -73.717979\n",
       "4   845.0  28.0   0.0   5.0  470.31621   39000.0  41.062186 -73.566848"
      ]
     },
     "execution_count": 10,
     "metadata": {},
     "output_type": "execute_result"
    }
   ],
   "source": [
    "# read in data from July, 28th, 2012\n",
    "trajectories28 = pd.read_csv(\"TrajDataV2_20120728.txt\",  \n",
    "                             delimiter=\"\\t\", \n",
    "                             names=('flight', 'date', 'wind', 'time', 'speed', 'altitude','latitude', 'longitude', 'nan'),\n",
    "                             usecols=('flight', 'date', 'wind', 'time', 'speed', 'altitude','latitude', 'longitude')\n",
    "                            )\n",
    "# read in data from July, 29th, 2012\n",
    "trajectories29 = pd.read_csv(\"TrajDataV2_20120729.txt\",  \n",
    "                             delimiter=\"\\t\", \n",
    "                             names=('flight', 'date', 'wind', 'time', 'speed', 'altitude','latitude', 'longitude', 'nan'),\n",
    "                             usecols=('flight', 'date', 'wind', 'time', 'speed', 'altitude','latitude', 'longitude')\n",
    "                            )\n",
    "trajectories28.head()"
   ]
  },
  {
   "cell_type": "code",
   "execution_count": 11,
   "metadata": {
    "collapsed": true
   },
   "outputs": [],
   "source": [
    "# concatenate data from both days\n",
    "#trajectories = pd.concat([trajectories28, trajectories29])\n",
    "trajectories = trajectories29"
   ]
  },
  {
   "cell_type": "code",
   "execution_count": 12,
   "metadata": {
    "collapsed": false
   },
   "outputs": [
    {
     "data": {
      "text/html": [
       "<div>\n",
       "<table border=\"1\" class=\"dataframe\">\n",
       "  <thead>\n",
       "    <tr style=\"text-align: right;\">\n",
       "      <th></th>\n",
       "      <th>flight</th>\n",
       "      <th>date</th>\n",
       "      <th>wind</th>\n",
       "      <th>time</th>\n",
       "      <th>speed</th>\n",
       "      <th>altitude</th>\n",
       "      <th>latitude</th>\n",
       "      <th>longitude</th>\n",
       "      <th>flightIndex</th>\n",
       "    </tr>\n",
       "  </thead>\n",
       "  <tbody>\n",
       "    <tr>\n",
       "      <th>0</th>\n",
       "      <td>805.0</td>\n",
       "      <td>29.0</td>\n",
       "      <td>0.0</td>\n",
       "      <td>2.0</td>\n",
       "      <td>465.28117</td>\n",
       "      <td>33000.0</td>\n",
       "      <td>40.692500</td>\n",
       "      <td>-74.168667</td>\n",
       "      <td>0</td>\n",
       "    </tr>\n",
       "    <tr>\n",
       "      <th>1</th>\n",
       "      <td>805.0</td>\n",
       "      <td>29.0</td>\n",
       "      <td>0.0</td>\n",
       "      <td>3.0</td>\n",
       "      <td>465.28117</td>\n",
       "      <td>33000.0</td>\n",
       "      <td>40.785863</td>\n",
       "      <td>-74.013012</td>\n",
       "      <td>0</td>\n",
       "    </tr>\n",
       "    <tr>\n",
       "      <th>2</th>\n",
       "      <td>805.0</td>\n",
       "      <td>29.0</td>\n",
       "      <td>0.0</td>\n",
       "      <td>4.0</td>\n",
       "      <td>465.28117</td>\n",
       "      <td>33000.0</td>\n",
       "      <td>40.878762</td>\n",
       "      <td>-73.856473</td>\n",
       "      <td>0</td>\n",
       "    </tr>\n",
       "    <tr>\n",
       "      <th>3</th>\n",
       "      <td>805.0</td>\n",
       "      <td>29.0</td>\n",
       "      <td>0.0</td>\n",
       "      <td>5.0</td>\n",
       "      <td>465.28117</td>\n",
       "      <td>33000.0</td>\n",
       "      <td>40.971273</td>\n",
       "      <td>-73.699485</td>\n",
       "      <td>0</td>\n",
       "    </tr>\n",
       "    <tr>\n",
       "      <th>4</th>\n",
       "      <td>805.0</td>\n",
       "      <td>29.0</td>\n",
       "      <td>0.0</td>\n",
       "      <td>6.0</td>\n",
       "      <td>465.28117</td>\n",
       "      <td>33000.0</td>\n",
       "      <td>41.063590</td>\n",
       "      <td>-73.542087</td>\n",
       "      <td>0</td>\n",
       "    </tr>\n",
       "  </tbody>\n",
       "</table>\n",
       "</div>"
      ],
      "text/plain": [
       "   flight  date  wind  time      speed  altitude   latitude  longitude  \\\n",
       "0   805.0  29.0   0.0   2.0  465.28117   33000.0  40.692500 -74.168667   \n",
       "1   805.0  29.0   0.0   3.0  465.28117   33000.0  40.785863 -74.013012   \n",
       "2   805.0  29.0   0.0   4.0  465.28117   33000.0  40.878762 -73.856473   \n",
       "3   805.0  29.0   0.0   5.0  465.28117   33000.0  40.971273 -73.699485   \n",
       "4   805.0  29.0   0.0   6.0  465.28117   33000.0  41.063590 -73.542087   \n",
       "\n",
       "   flightIndex  \n",
       "0            0  \n",
       "1            0  \n",
       "2            0  \n",
       "3            0  \n",
       "4            0  "
      ]
     },
     "execution_count": 12,
     "metadata": {},
     "output_type": "execute_result"
    }
   ],
   "source": [
    "# add consecutive flight index to the data\n",
    "flightNames = trajectories['flight'].unique()\n",
    "trajectories['flightIndex'] = trajectories['flight'].map(lambda x: np.where(flightNames==x)[0][0])\n",
    "trajectories.head()"
   ]
  },
  {
   "cell_type": "code",
   "execution_count": 13,
   "metadata": {
    "collapsed": false
   },
   "outputs": [
    {
     "data": {
      "text/html": [
       "<div>\n",
       "<table border=\"1\" class=\"dataframe\">\n",
       "  <thead>\n",
       "    <tr style=\"text-align: right;\">\n",
       "      <th></th>\n",
       "      <th>flight</th>\n",
       "      <th>date</th>\n",
       "      <th>wind</th>\n",
       "      <th>time</th>\n",
       "      <th>speed</th>\n",
       "      <th>altitude</th>\n",
       "      <th>latitude</th>\n",
       "      <th>longitude</th>\n",
       "    </tr>\n",
       "    <tr>\n",
       "      <th>flightIndex</th>\n",
       "      <th></th>\n",
       "      <th></th>\n",
       "      <th></th>\n",
       "      <th></th>\n",
       "      <th></th>\n",
       "      <th></th>\n",
       "      <th></th>\n",
       "      <th></th>\n",
       "    </tr>\n",
       "  </thead>\n",
       "  <tbody>\n",
       "    <tr>\n",
       "      <th>0</th>\n",
       "      <td>805.0</td>\n",
       "      <td>29.0</td>\n",
       "      <td>0.0</td>\n",
       "      <td>2.0</td>\n",
       "      <td>465.28117</td>\n",
       "      <td>33000.0</td>\n",
       "      <td>40.692500</td>\n",
       "      <td>-74.168667</td>\n",
       "    </tr>\n",
       "    <tr>\n",
       "      <th>0</th>\n",
       "      <td>805.0</td>\n",
       "      <td>29.0</td>\n",
       "      <td>0.0</td>\n",
       "      <td>3.0</td>\n",
       "      <td>465.28117</td>\n",
       "      <td>33000.0</td>\n",
       "      <td>40.785863</td>\n",
       "      <td>-74.013012</td>\n",
       "    </tr>\n",
       "    <tr>\n",
       "      <th>0</th>\n",
       "      <td>805.0</td>\n",
       "      <td>29.0</td>\n",
       "      <td>0.0</td>\n",
       "      <td>4.0</td>\n",
       "      <td>465.28117</td>\n",
       "      <td>33000.0</td>\n",
       "      <td>40.878762</td>\n",
       "      <td>-73.856473</td>\n",
       "    </tr>\n",
       "    <tr>\n",
       "      <th>0</th>\n",
       "      <td>805.0</td>\n",
       "      <td>29.0</td>\n",
       "      <td>0.0</td>\n",
       "      <td>5.0</td>\n",
       "      <td>465.28117</td>\n",
       "      <td>33000.0</td>\n",
       "      <td>40.971273</td>\n",
       "      <td>-73.699485</td>\n",
       "    </tr>\n",
       "    <tr>\n",
       "      <th>0</th>\n",
       "      <td>805.0</td>\n",
       "      <td>29.0</td>\n",
       "      <td>0.0</td>\n",
       "      <td>6.0</td>\n",
       "      <td>465.28117</td>\n",
       "      <td>33000.0</td>\n",
       "      <td>41.063590</td>\n",
       "      <td>-73.542087</td>\n",
       "    </tr>\n",
       "  </tbody>\n",
       "</table>\n",
       "</div>"
      ],
      "text/plain": [
       "             flight  date  wind  time      speed  altitude   latitude  \\\n",
       "flightIndex                                                             \n",
       "0             805.0  29.0   0.0   2.0  465.28117   33000.0  40.692500   \n",
       "0             805.0  29.0   0.0   3.0  465.28117   33000.0  40.785863   \n",
       "0             805.0  29.0   0.0   4.0  465.28117   33000.0  40.878762   \n",
       "0             805.0  29.0   0.0   5.0  465.28117   33000.0  40.971273   \n",
       "0             805.0  29.0   0.0   6.0  465.28117   33000.0  41.063590   \n",
       "\n",
       "             longitude  \n",
       "flightIndex             \n",
       "0           -74.168667  \n",
       "0           -74.013012  \n",
       "0           -73.856473  \n",
       "0           -73.699485  \n",
       "0           -73.542087  "
      ]
     },
     "execution_count": 13,
     "metadata": {},
     "output_type": "execute_result"
    }
   ],
   "source": [
    "# set consecutive flight index as dataset index\n",
    "trajectories = trajectories.set_index('flightIndex')\n",
    "trajectories.head()"
   ]
  },
  {
   "cell_type": "code",
   "execution_count": 86,
   "metadata": {
    "collapsed": false
   },
   "outputs": [],
   "source": [
    "trajectories.time.plot(marker='o', linestyle='o')\n",
    "plt.show()"
   ]
  },
  {
   "cell_type": "code",
   "execution_count": 83,
   "metadata": {
    "collapsed": false
   },
   "outputs": [],
   "source": [
    "def plotTrajectories(trajectories):\n",
    "    # Create a figure of size (i.e. pretty big)\n",
    "    fig = plt.figure(figsize=(20,10))\n",
    "\n",
    "    # Create a map, using the Gall–Peters projection, \n",
    "    map = Basemap(projection='gall', \n",
    "                  # with low resolution,\n",
    "                  resolution = 'l', \n",
    "                  # And threshold 100000\n",
    "                  area_thresh = 100000.0,\n",
    "                  # Centered at 0,0 (i.e null island)\n",
    "                  lat_0=0, lon_0=0)\n",
    "\n",
    "    # Draw the coastlines on the map\n",
    "    map.drawcoastlines()\n",
    "\n",
    "    # Draw country borders on the map\n",
    "    map.drawcountries()\n",
    "\n",
    "    # Fill the land with grey\n",
    "    map.fillcontinents(color = '#888888')\n",
    "\n",
    "    # Draw the map boundaries\n",
    "    map.drawmapboundary(fill_color='#f4f4f4')\n",
    "\n",
    "    # Define our longitude and latitude points\n",
    "    # We have to use .values because of a wierd bug when passing pandas data\n",
    "    # to basemap.\n",
    "    x,y = map(trajectories['longitude'].values, trajectories['latitude'].values)\n",
    "\n",
    "    # Plot them using round markers of size 6\n",
    "    map.plot(x, y, 'b', markersize=6)\n",
    "\n",
    "    # Show the map\n",
    "    plt.show()"
   ]
  },
  {
   "cell_type": "code",
   "execution_count": 84,
   "metadata": {
    "collapsed": true
   },
   "outputs": [],
   "source": [
    "plotTrajectories(trajectories[trajectories.index < 100])"
   ]
  },
  {
   "cell_type": "code",
   "execution_count": 26,
   "metadata": {
    "collapsed": false
   },
   "outputs": [],
   "source": [
    "def distance(lat1, lon1, lat2, lon2, R=6367):\n",
    "    \"\"\"Get the distance on a great circle between to trajectory points in kilometers\n",
    "    \n",
    "    Arguments:\n",
    "    R: Radius in kilometers\n",
    "    lat1: latitude of first point in degrees\n",
    "    lon1: longitude of the first point in degrees\n",
    "    lat2: latitude of the second point in degrees\n",
    "    lon2: longitude of the second point in degrees\n",
    "    \n",
    "    \"\"\"\n",
    "    Lat0 = np.radians(lat1)\n",
    "    Latf = np.radians(lat2)\n",
    "    Lon0 = np.radians(lon1)\n",
    "    Lonf = np.radians(lon2)\n",
    "\n",
    "    return R * np.arccos(np.sin(Lat0) * np.sin(Latf) + np.cos(Lonf-Lon0)*np.cos(Lat0)*np.cos(Latf))"
   ]
  },
  {
   "cell_type": "code",
   "execution_count": 35,
   "metadata": {
    "collapsed": false
   },
   "outputs": [
    {
     "data": {
      "text/plain": [
       "49.866839043922198"
      ]
     },
     "execution_count": 35,
     "metadata": {},
     "output_type": "execute_result"
    }
   ],
   "source": [
    "# test\n",
    "i1 = 4\n",
    "i2 = 7\n",
    "lat1 = trajectories['latitude'].iloc[i1]\n",
    "lat2 = trajectories['latitude'].iloc[i2]\n",
    "lon1 = trajectories['longitude'].iloc[i1]\n",
    "lon2 = trajectories['longitude'].iloc[i2]\n",
    "distance(lat1, lon1, lat2, lon2)"
   ]
  },
  {
   "cell_type": "code",
   "execution_count": 36,
   "metadata": {
    "collapsed": true
   },
   "outputs": [],
   "source": [
    "# constants \n",
    "# nautic mile in kilometers\n",
    "nautic = 1.852"
   ]
  },
  {
   "cell_type": "code",
   "execution_count": 37,
   "metadata": {
    "collapsed": true
   },
   "outputs": [],
   "source": [
    "# minimal acceptable distance in kilometers\n",
    "mindistance = 30 * nautic"
   ]
  },
  {
   "cell_type": "code",
   "execution_count": 34,
   "metadata": {
    "collapsed": true
   },
   "outputs": [],
   "source": [
    "# minimal acceptable time difference\n",
    "mintime = 3"
   ]
  },
  {
   "cell_type": "code",
   "execution_count": 38,
   "metadata": {
    "collapsed": true
   },
   "outputs": [],
   "source": [
    "def detectSpatialConflict(lat1, lon1, lat2, lon2, mindistance):\n",
    "    return distance(lat1, lon1, lat2, lon2) < mindistance"
   ]
  },
  {
   "cell_type": "code",
   "execution_count": null,
   "metadata": {
    "collapsed": true
   },
   "outputs": [],
   "source": [
    "# detect spatial conflict points\n",
    "trajectories['spatialConflictPoint'] = trajectories['flight'].map(lambda x: np.where(flightNames==x)[0][0])\n",
    "trajectories.head()"
   ]
  }
 ],
 "metadata": {
  "kernelspec": {
   "display_name": "Python 2",
   "language": "python",
   "name": "python2"
  },
  "language_info": {
   "codemirror_mode": {
    "name": "ipython",
    "version": 2
   },
   "file_extension": ".py",
   "mimetype": "text/x-python",
   "name": "python",
   "nbconvert_exporter": "python",
   "pygments_lexer": "ipython2",
   "version": "2.7.11"
  }
 },
 "nbformat": 4,
 "nbformat_minor": 0
}
