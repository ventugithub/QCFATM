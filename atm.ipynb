{
 "cells": [
  {
   "cell_type": "code",
   "execution_count": 1,
   "metadata": {
    "collapsed": true
   },
   "outputs": [],
   "source": [
    "import numpy"
   ]
  },
  {
   "cell_type": "code",
   "execution_count": 5,
   "metadata": {
    "collapsed": false
   },
   "outputs": [],
   "source": [
    "import pandas as pd\n",
    "import numpy as np\n",
    "import matplotlib.pyplot as plt\n",
    "from mpl_toolkits.basemap import Basemap\n"
   ]
  },
  {
   "cell_type": "code",
   "execution_count": 6,
   "metadata": {
    "collapsed": false
   },
   "outputs": [
    {
     "data": {
      "text/html": [
       "<div>\n",
       "<table border=\"1\" class=\"dataframe\">\n",
       "  <thead>\n",
       "    <tr style=\"text-align: right;\">\n",
       "      <th></th>\n",
       "      <th>Date</th>\n",
       "      <th>wind</th>\n",
       "      <th>time</th>\n",
       "      <th>speed</th>\n",
       "      <th>altitude</th>\n",
       "      <th>latitude</th>\n",
       "      <th>longitude</th>\n",
       "      <th>nan</th>\n",
       "    </tr>\n",
       "  </thead>\n",
       "  <tbody>\n",
       "    <tr>\n",
       "      <th>845.0</th>\n",
       "      <td>28.0</td>\n",
       "      <td>0.0</td>\n",
       "      <td>1.0</td>\n",
       "      <td>470.31621</td>\n",
       "      <td>39000.0</td>\n",
       "      <td>40.692500</td>\n",
       "      <td>-74.168667</td>\n",
       "      <td>NaN</td>\n",
       "    </tr>\n",
       "    <tr>\n",
       "      <th>845.0</th>\n",
       "      <td>28.0</td>\n",
       "      <td>0.0</td>\n",
       "      <td>2.0</td>\n",
       "      <td>470.31621</td>\n",
       "      <td>39000.0</td>\n",
       "      <td>40.784686</td>\n",
       "      <td>-74.019193</td>\n",
       "      <td>NaN</td>\n",
       "    </tr>\n",
       "    <tr>\n",
       "      <th>845.0</th>\n",
       "      <td>28.0</td>\n",
       "      <td>0.0</td>\n",
       "      <td>3.0</td>\n",
       "      <td>470.31621</td>\n",
       "      <td>39000.0</td>\n",
       "      <td>40.877281</td>\n",
       "      <td>-73.868705</td>\n",
       "      <td>NaN</td>\n",
       "    </tr>\n",
       "    <tr>\n",
       "      <th>845.0</th>\n",
       "      <td>28.0</td>\n",
       "      <td>0.0</td>\n",
       "      <td>4.0</td>\n",
       "      <td>470.31621</td>\n",
       "      <td>39000.0</td>\n",
       "      <td>40.969822</td>\n",
       "      <td>-73.717979</td>\n",
       "      <td>NaN</td>\n",
       "    </tr>\n",
       "    <tr>\n",
       "      <th>845.0</th>\n",
       "      <td>28.0</td>\n",
       "      <td>0.0</td>\n",
       "      <td>5.0</td>\n",
       "      <td>470.31621</td>\n",
       "      <td>39000.0</td>\n",
       "      <td>41.062186</td>\n",
       "      <td>-73.566848</td>\n",
       "      <td>NaN</td>\n",
       "    </tr>\n",
       "  </tbody>\n",
       "</table>\n",
       "</div>"
      ],
      "text/plain": [
       "       Date  wind  time      speed  altitude   latitude  longitude  nan\n",
       "845.0  28.0   0.0   1.0  470.31621   39000.0  40.692500 -74.168667  NaN\n",
       "845.0  28.0   0.0   2.0  470.31621   39000.0  40.784686 -74.019193  NaN\n",
       "845.0  28.0   0.0   3.0  470.31621   39000.0  40.877281 -73.868705  NaN\n",
       "845.0  28.0   0.0   4.0  470.31621   39000.0  40.969822 -73.717979  NaN\n",
       "845.0  28.0   0.0   5.0  470.31621   39000.0  41.062186 -73.566848  NaN"
      ]
     },
     "execution_count": 6,
     "metadata": {},
     "output_type": "execute_result"
    }
   ],
   "source": [
    "trajectories = pd.read_csv(\"TrajDataV2_20120728.txt\",  delimiter=\"\\t\", names=('Date', 'wind', 'time', 'speed', 'altitude','latitude', 'longitude', 'nan'))\n",
    "trajectories.head()"
   ]
  },
  {
   "cell_type": "code",
   "execution_count": null,
   "metadata": {
    "collapsed": false
   },
   "outputs": [],
   "source": [
    "# Create a figure of size (i.e. pretty big)\n",
    "fig = plt.figure(figsize=(20,10))\n",
    "\n",
    "# Create a map, using the Gall–Peters projection, \n",
    "map = Basemap(projection='gall', \n",
    "              # with low resolution,\n",
    "              resolution = 'l', \n",
    "              # And threshold 100000\n",
    "              area_thresh = 100000.0,\n",
    "              # Centered at 0,0 (i.e null island)\n",
    "              lat_0=0, lon_0=0)\n",
    "\n",
    "# Draw the coastlines on the map\n",
    "map.drawcoastlines()\n",
    "\n",
    "# Draw country borders on the map\n",
    "map.drawcountries()\n",
    "\n",
    "# Fill the land with grey\n",
    "map.fillcontinents(color = '#888888')\n",
    "\n",
    "# Draw the map boundaries\n",
    "map.drawmapboundary(fill_color='#f4f4f4')\n",
    "\n",
    "# Define our longitude and latitude points\n",
    "# We have to use .values because of a wierd bug when passing pandas data\n",
    "# to basemap.\n",
    "x,y = map(trajectories['longitude'].values, trajectories['latitude'].values)\n",
    "\n",
    "# Plot them using round markers of size 6\n",
    "map.plot(x, y, 'ro', markersize=6)\n",
    "\n",
    "# Show the map\n",
    "plt.show()"
   ]
  },
  {
   "cell_type": "code",
   "execution_count": null,
   "metadata": {
    "collapsed": true
   },
   "outputs": [],
   "source": []
  }
 ],
 "metadata": {
  "kernelspec": {
   "display_name": "Python 2",
   "language": "python",
   "name": "python2"
  },
  "language_info": {
   "codemirror_mode": {
    "name": "ipython",
    "version": 2
   },
   "file_extension": ".py",
   "mimetype": "text/x-python",
   "name": "python",
   "nbconvert_exporter": "python",
   "pygments_lexer": "ipython2",
   "version": "2.7.11"
  }
 },
 "nbformat": 4,
 "nbformat_minor": 0
}
