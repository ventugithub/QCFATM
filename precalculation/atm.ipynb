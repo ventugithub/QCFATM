{
 "cells": [
  {
   "cell_type": "code",
   "execution_count": 1,
   "metadata": {
    "collapsed": false
   },
   "outputs": [],
   "source": [
    "import pandas as pd\n",
    "import numpy as np\n",
    "import matplotlib.pyplot as plt\n",
    "from mpl_toolkits.basemap import Basemap"
   ]
  },
  {
   "cell_type": "code",
   "execution_count": 2,
   "metadata": {
    "collapsed": false
   },
   "outputs": [
    {
     "data": {
      "text/html": [
       "<div style=\"max-height:1000px;max-width:1500px;overflow:auto;\">\n",
       "<table border=\"1\" class=\"dataframe\">\n",
       "  <thead>\n",
       "    <tr style=\"text-align: right;\">\n",
       "      <th></th>\n",
       "      <th>flight</th>\n",
       "      <th>date</th>\n",
       "      <th>wind</th>\n",
       "      <th>time</th>\n",
       "      <th>speed</th>\n",
       "      <th>altitude</th>\n",
       "      <th>latitude</th>\n",
       "      <th>longitude</th>\n",
       "    </tr>\n",
       "  </thead>\n",
       "  <tbody>\n",
       "    <tr>\n",
       "      <th>0</th>\n",
       "      <td> 845</td>\n",
       "      <td> 28</td>\n",
       "      <td> 0</td>\n",
       "      <td> 1</td>\n",
       "      <td> 470.31621</td>\n",
       "      <td> 39000</td>\n",
       "      <td> 40.692500</td>\n",
       "      <td>-74.168667</td>\n",
       "    </tr>\n",
       "    <tr>\n",
       "      <th>1</th>\n",
       "      <td> 845</td>\n",
       "      <td> 28</td>\n",
       "      <td> 0</td>\n",
       "      <td> 2</td>\n",
       "      <td> 470.31621</td>\n",
       "      <td> 39000</td>\n",
       "      <td> 40.784686</td>\n",
       "      <td>-74.019193</td>\n",
       "    </tr>\n",
       "    <tr>\n",
       "      <th>2</th>\n",
       "      <td> 845</td>\n",
       "      <td> 28</td>\n",
       "      <td> 0</td>\n",
       "      <td> 3</td>\n",
       "      <td> 470.31621</td>\n",
       "      <td> 39000</td>\n",
       "      <td> 40.877281</td>\n",
       "      <td>-73.868705</td>\n",
       "    </tr>\n",
       "    <tr>\n",
       "      <th>3</th>\n",
       "      <td> 845</td>\n",
       "      <td> 28</td>\n",
       "      <td> 0</td>\n",
       "      <td> 4</td>\n",
       "      <td> 470.31621</td>\n",
       "      <td> 39000</td>\n",
       "      <td> 40.969822</td>\n",
       "      <td>-73.717979</td>\n",
       "    </tr>\n",
       "    <tr>\n",
       "      <th>4</th>\n",
       "      <td> 845</td>\n",
       "      <td> 28</td>\n",
       "      <td> 0</td>\n",
       "      <td> 5</td>\n",
       "      <td> 470.31621</td>\n",
       "      <td> 39000</td>\n",
       "      <td> 41.062186</td>\n",
       "      <td>-73.566848</td>\n",
       "    </tr>\n",
       "  </tbody>\n",
       "</table>\n",
       "<p>5 rows × 8 columns</p>\n",
       "</div>"
      ],
      "text/plain": [
       "   flight  date  wind  time      speed  altitude   latitude  longitude\n",
       "0     845    28     0     1  470.31621     39000  40.692500 -74.168667\n",
       "1     845    28     0     2  470.31621     39000  40.784686 -74.019193\n",
       "2     845    28     0     3  470.31621     39000  40.877281 -73.868705\n",
       "3     845    28     0     4  470.31621     39000  40.969822 -73.717979\n",
       "4     845    28     0     5  470.31621     39000  41.062186 -73.566848\n",
       "\n",
       "[5 rows x 8 columns]"
      ]
     },
     "execution_count": 2,
     "metadata": {},
     "output_type": "execute_result"
    }
   ],
   "source": [
    "# read in data from July, 28th, 2012\n",
    "trajectories28 = pd.read_csv(\"TrajDataV2_20120728.txt\",  \n",
    "                             delimiter=\"\\t\", \n",
    "                             names=('flight', 'date', 'wind', 'time', 'speed', 'altitude','latitude', 'longitude', 'nan'),\n",
    "                             usecols=('flight', 'date', 'wind', 'time', 'speed', 'altitude','latitude', 'longitude')\n",
    "                            )\n",
    "# read in data from July, 29th, 2012\n",
    "trajectories29 = pd.read_csv(\"TrajDataV2_20120729.txt\",  \n",
    "                             delimiter=\"\\t\", \n",
    "                             names=('flight', 'date', 'wind', 'time', 'speed', 'altitude','latitude', 'longitude', 'nan'),\n",
    "                             usecols=('flight', 'date', 'wind', 'time', 'speed', 'altitude','latitude', 'longitude')\n",
    "                            )\n",
    "trajectories28.head()"
   ]
  },
  {
   "cell_type": "code",
   "execution_count": 3,
   "metadata": {
    "collapsed": true
   },
   "outputs": [],
   "source": [
    "# concatenate data from both days\n",
    "#trajectories = pd.concat([trajectories28, trajectories29])\n",
    "trajectories = trajectories29"
   ]
  },
  {
   "cell_type": "code",
   "execution_count": 5,
   "metadata": {
    "collapsed": false
   },
   "outputs": [
    {
     "data": {
      "text/html": [
       "<div style=\"max-height:1000px;max-width:1500px;overflow:auto;\">\n",
       "<table border=\"1\" class=\"dataframe\">\n",
       "  <thead>\n",
       "    <tr style=\"text-align: right;\">\n",
       "      <th></th>\n",
       "      <th>flight</th>\n",
       "      <th>date</th>\n",
       "      <th>wind</th>\n",
       "      <th>time</th>\n",
       "      <th>speed</th>\n",
       "      <th>altitude</th>\n",
       "      <th>latitude</th>\n",
       "      <th>longitude</th>\n",
       "      <th>flightIndex</th>\n",
       "    </tr>\n",
       "  </thead>\n",
       "  <tbody>\n",
       "    <tr>\n",
       "      <th>0</th>\n",
       "      <td> 805</td>\n",
       "      <td> 29</td>\n",
       "      <td> 0</td>\n",
       "      <td> 2</td>\n",
       "      <td> 465.28117</td>\n",
       "      <td> 33000</td>\n",
       "      <td> 40.692500</td>\n",
       "      <td>-74.168667</td>\n",
       "      <td> 0</td>\n",
       "    </tr>\n",
       "    <tr>\n",
       "      <th>1</th>\n",
       "      <td> 805</td>\n",
       "      <td> 29</td>\n",
       "      <td> 0</td>\n",
       "      <td> 3</td>\n",
       "      <td> 465.28117</td>\n",
       "      <td> 33000</td>\n",
       "      <td> 40.785863</td>\n",
       "      <td>-74.013012</td>\n",
       "      <td> 0</td>\n",
       "    </tr>\n",
       "    <tr>\n",
       "      <th>2</th>\n",
       "      <td> 805</td>\n",
       "      <td> 29</td>\n",
       "      <td> 0</td>\n",
       "      <td> 4</td>\n",
       "      <td> 465.28117</td>\n",
       "      <td> 33000</td>\n",
       "      <td> 40.878762</td>\n",
       "      <td>-73.856473</td>\n",
       "      <td> 0</td>\n",
       "    </tr>\n",
       "    <tr>\n",
       "      <th>3</th>\n",
       "      <td> 805</td>\n",
       "      <td> 29</td>\n",
       "      <td> 0</td>\n",
       "      <td> 5</td>\n",
       "      <td> 465.28117</td>\n",
       "      <td> 33000</td>\n",
       "      <td> 40.971273</td>\n",
       "      <td>-73.699485</td>\n",
       "      <td> 0</td>\n",
       "    </tr>\n",
       "    <tr>\n",
       "      <th>4</th>\n",
       "      <td> 805</td>\n",
       "      <td> 29</td>\n",
       "      <td> 0</td>\n",
       "      <td> 6</td>\n",
       "      <td> 465.28117</td>\n",
       "      <td> 33000</td>\n",
       "      <td> 41.063590</td>\n",
       "      <td>-73.542087</td>\n",
       "      <td> 0</td>\n",
       "    </tr>\n",
       "  </tbody>\n",
       "</table>\n",
       "<p>5 rows × 9 columns</p>\n",
       "</div>"
      ],
      "text/plain": [
       "   flight  date  wind  time      speed  altitude   latitude  longitude  \\\n",
       "0     805    29     0     2  465.28117     33000  40.692500 -74.168667   \n",
       "1     805    29     0     3  465.28117     33000  40.785863 -74.013012   \n",
       "2     805    29     0     4  465.28117     33000  40.878762 -73.856473   \n",
       "3     805    29     0     5  465.28117     33000  40.971273 -73.699485   \n",
       "4     805    29     0     6  465.28117     33000  41.063590 -73.542087   \n",
       "\n",
       "   flightIndex  \n",
       "0            0  \n",
       "1            0  \n",
       "2            0  \n",
       "3            0  \n",
       "4            0  \n",
       "\n",
       "[5 rows x 9 columns]"
      ]
     },
     "execution_count": 5,
     "metadata": {},
     "output_type": "execute_result"
    }
   ],
   "source": [
    "# add consecutive flight index to the data\n",
    "flightNames = trajectories['flight'].unique()\n",
    "trajectories['flightIndex'] = trajectories['flight'].map(lambda x: np.where(flightNames==x)[0][0])\n",
    "trajectories.head()"
   ]
  },
  {
   "cell_type": "code",
   "execution_count": 6,
   "metadata": {
    "collapsed": false
   },
   "outputs": [
    {
     "data": {
      "text/html": [
       "<div style=\"max-height:1000px;max-width:1500px;overflow:auto;\">\n",
       "<table border=\"1\" class=\"dataframe\">\n",
       "  <thead>\n",
       "    <tr style=\"text-align: right;\">\n",
       "      <th></th>\n",
       "      <th>flight</th>\n",
       "      <th>date</th>\n",
       "      <th>wind</th>\n",
       "      <th>time</th>\n",
       "      <th>speed</th>\n",
       "      <th>altitude</th>\n",
       "      <th>latitude</th>\n",
       "      <th>longitude</th>\n",
       "    </tr>\n",
       "    <tr>\n",
       "      <th>flightIndex</th>\n",
       "      <th></th>\n",
       "      <th></th>\n",
       "      <th></th>\n",
       "      <th></th>\n",
       "      <th></th>\n",
       "      <th></th>\n",
       "      <th></th>\n",
       "      <th></th>\n",
       "    </tr>\n",
       "  </thead>\n",
       "  <tbody>\n",
       "    <tr>\n",
       "      <th>0</th>\n",
       "      <td> 805</td>\n",
       "      <td> 29</td>\n",
       "      <td> 0</td>\n",
       "      <td> 2</td>\n",
       "      <td> 465.28117</td>\n",
       "      <td> 33000</td>\n",
       "      <td> 40.692500</td>\n",
       "      <td>-74.168667</td>\n",
       "    </tr>\n",
       "    <tr>\n",
       "      <th>0</th>\n",
       "      <td> 805</td>\n",
       "      <td> 29</td>\n",
       "      <td> 0</td>\n",
       "      <td> 3</td>\n",
       "      <td> 465.28117</td>\n",
       "      <td> 33000</td>\n",
       "      <td> 40.785863</td>\n",
       "      <td>-74.013012</td>\n",
       "    </tr>\n",
       "    <tr>\n",
       "      <th>0</th>\n",
       "      <td> 805</td>\n",
       "      <td> 29</td>\n",
       "      <td> 0</td>\n",
       "      <td> 4</td>\n",
       "      <td> 465.28117</td>\n",
       "      <td> 33000</td>\n",
       "      <td> 40.878762</td>\n",
       "      <td>-73.856473</td>\n",
       "    </tr>\n",
       "    <tr>\n",
       "      <th>0</th>\n",
       "      <td> 805</td>\n",
       "      <td> 29</td>\n",
       "      <td> 0</td>\n",
       "      <td> 5</td>\n",
       "      <td> 465.28117</td>\n",
       "      <td> 33000</td>\n",
       "      <td> 40.971273</td>\n",
       "      <td>-73.699485</td>\n",
       "    </tr>\n",
       "    <tr>\n",
       "      <th>0</th>\n",
       "      <td> 805</td>\n",
       "      <td> 29</td>\n",
       "      <td> 0</td>\n",
       "      <td> 6</td>\n",
       "      <td> 465.28117</td>\n",
       "      <td> 33000</td>\n",
       "      <td> 41.063590</td>\n",
       "      <td>-73.542087</td>\n",
       "    </tr>\n",
       "  </tbody>\n",
       "</table>\n",
       "<p>5 rows × 8 columns</p>\n",
       "</div>"
      ],
      "text/plain": [
       "             flight  date  wind  time      speed  altitude   latitude  \\\n",
       "flightIndex                                                             \n",
       "0               805    29     0     2  465.28117     33000  40.692500   \n",
       "0               805    29     0     3  465.28117     33000  40.785863   \n",
       "0               805    29     0     4  465.28117     33000  40.878762   \n",
       "0               805    29     0     5  465.28117     33000  40.971273   \n",
       "0               805    29     0     6  465.28117     33000  41.063590   \n",
       "\n",
       "             longitude  \n",
       "flightIndex             \n",
       "0           -74.168667  \n",
       "0           -74.013012  \n",
       "0           -73.856473  \n",
       "0           -73.699485  \n",
       "0           -73.542087  \n",
       "\n",
       "[5 rows x 8 columns]"
      ]
     },
     "execution_count": 6,
     "metadata": {},
     "output_type": "execute_result"
    }
   ],
   "source": [
    "# set consecutive flight index as dataset index\n",
    "trajectories = trajectories.set_index('flightIndex')\n",
    "trajectories.head()"
   ]
  },
  {
   "cell_type": "code",
   "execution_count": 6,
   "metadata": {
    "collapsed": false
   },
   "outputs": [],
   "source": [
    "trajectories.time.plot(marker='o', linestyle='o')\n",
    "plt.show()"
   ]
  },
  {
   "cell_type": "code",
   "execution_count": 7,
   "metadata": {
    "collapsed": false
   },
   "outputs": [],
   "source": [
    "def plotTrajectories(trajectories):\n",
    "    # Create a figure of size (i.e. pretty big)\n",
    "    fig = plt.figure(figsize=(20,10))\n",
    "\n",
    "    # Create a map, using the Gall–Peters projection, \n",
    "    map = Basemap(projection='gall', \n",
    "                  # with low resolution,\n",
    "                  resolution = 'l', \n",
    "                  # And threshold 100000\n",
    "                  area_thresh = 100000.0,\n",
    "                  # Centered at 0,0 (i.e null island)\n",
    "                  lat_0=0, lon_0=0)\n",
    "\n",
    "    # Draw the coastlines on the map\n",
    "    map.drawcoastlines()\n",
    "\n",
    "    # Draw country borders on the map\n",
    "    map.drawcountries()\n",
    "\n",
    "    # Fill the land with grey\n",
    "    map.fillcontinents(color = '#888888')\n",
    "\n",
    "    # Draw the map boundaries\n",
    "    map.drawmapboundary(fill_color='#f4f4f4')\n",
    "\n",
    "    # Define our longitude and latitude points\n",
    "    # We have to use .values because of a wierd bug when passing pandas data\n",
    "    # to basemap.\n",
    "    x,y = map(trajectories['longitude'].values, trajectories['latitude'].values)\n",
    "\n",
    "    # Plot them using round markers of size 6\n",
    "    map.plot(x, y, 'b', markersize=6)\n",
    "\n",
    "    # Show the map\n",
    "    plt.show()"
   ]
  },
  {
   "cell_type": "code",
   "execution_count": 84,
   "metadata": {
    "collapsed": true
   },
   "outputs": [],
   "source": [
    "plotTrajectories(trajectories[trajectories.index < 100])"
   ]
  },
  {
   "cell_type": "code",
   "execution_count": 8,
   "metadata": {
    "collapsed": false
   },
   "outputs": [],
   "source": [
    "def distance(lat1, lon1, lat2, lon2, R=6367):\n",
    "    \"\"\"Get the distance on a great circle between to trajectory points in kilometers\n",
    "    \n",
    "    Arguments:\n",
    "    R: Radius in kilometers\n",
    "    lat1: latitude of first point in degrees\n",
    "    lon1: longitude of the first point in degrees\n",
    "    lat2: latitude of the second point in degrees\n",
    "    lon2: longitude of the second point in degrees\n",
    "    \n",
    "    \"\"\"\n",
    "    Lat0 = np.radians(lat1)\n",
    "    Latf = np.radians(lat2)\n",
    "    Lon0 = np.radians(lon1)\n",
    "    Lonf = np.radians(lon2)\n",
    "\n",
    "    return R * np.arccos(np.sin(Lat0) * np.sin(Latf) + np.cos(Lonf-Lon0)*np.cos(Lat0)*np.cos(Latf))"
   ]
  },
  {
   "cell_type": "code",
   "execution_count": 9,
   "metadata": {
    "collapsed": false
   },
   "outputs": [
    {
     "data": {
      "text/plain": [
       "49.866839043922198"
      ]
     },
     "execution_count": 9,
     "metadata": {},
     "output_type": "execute_result"
    }
   ],
   "source": [
    "# test\n",
    "i1 = 4\n",
    "i2 = 7\n",
    "lat1 = trajectories['latitude'].iloc[i1]\n",
    "lat2 = trajectories['latitude'].iloc[i2]\n",
    "lon1 = trajectories['longitude'].iloc[i1]\n",
    "lon2 = trajectories['longitude'].iloc[i2]\n",
    "distance(lat1, lon1, lat2, lon2)"
   ]
  },
  {
   "cell_type": "code",
   "execution_count": 10,
   "metadata": {
    "collapsed": true
   },
   "outputs": [],
   "source": [
    "# constants \n",
    "# nautic mile in kilometers\n",
    "nautic = 1.852"
   ]
  },
  {
   "cell_type": "code",
   "execution_count": 11,
   "metadata": {
    "collapsed": true
   },
   "outputs": [],
   "source": [
    "# minimal acceptable distance in kilometers\n",
    "mindistance = 30 * nautic"
   ]
  },
  {
   "cell_type": "code",
   "execution_count": 12,
   "metadata": {
    "collapsed": true
   },
   "outputs": [],
   "source": [
    "# minimal acceptable time difference\n",
    "mintime = 3"
   ]
  },
  {
   "cell_type": "code",
   "execution_count": 13,
   "metadata": {
    "collapsed": true
   },
   "outputs": [],
   "source": [
    "def detectSpatialConflict(lat1, lon1, lat2, lon2, mindistance):\n",
    "    return distance(lat1, lon1, lat2, lon2) < mindistance"
   ]
  },
  {
   "cell_type": "code",
   "execution_count": 14,
   "metadata": {
    "collapsed": false
   },
   "outputs": [
    {
     "data": {
      "text/html": [
       "<div style=\"max-height:1000px;max-width:1500px;overflow:auto;\">\n",
       "<table border=\"1\" class=\"dataframe\">\n",
       "  <thead>\n",
       "    <tr style=\"text-align: right;\">\n",
       "      <th></th>\n",
       "      <th>flight</th>\n",
       "      <th>date</th>\n",
       "      <th>wind</th>\n",
       "      <th>time</th>\n",
       "      <th>speed</th>\n",
       "      <th>altitude</th>\n",
       "      <th>latitude</th>\n",
       "      <th>longitude</th>\n",
       "    </tr>\n",
       "    <tr>\n",
       "      <th>flightIndex</th>\n",
       "      <th></th>\n",
       "      <th></th>\n",
       "      <th></th>\n",
       "      <th></th>\n",
       "      <th></th>\n",
       "      <th></th>\n",
       "      <th></th>\n",
       "      <th></th>\n",
       "    </tr>\n",
       "  </thead>\n",
       "  <tbody>\n",
       "    <tr>\n",
       "      <th>0  </th>\n",
       "      <td>  805</td>\n",
       "      <td> 29</td>\n",
       "      <td> 0</td>\n",
       "      <td> 19</td>\n",
       "      <td> 465.28117</td>\n",
       "      <td> 33000</td>\n",
       "      <td> 42.215822</td>\n",
       "      <td> -71.450293</td>\n",
       "    </tr>\n",
       "    <tr>\n",
       "      <th>1  </th>\n",
       "      <td>  806</td>\n",
       "      <td> 29</td>\n",
       "      <td> 0</td>\n",
       "      <td> 19</td>\n",
       "      <td> 470.31621</td>\n",
       "      <td> 37000</td>\n",
       "      <td> 42.317306</td>\n",
       "      <td> -71.434381</td>\n",
       "    </tr>\n",
       "    <tr>\n",
       "      <th>2  </th>\n",
       "      <td>  808</td>\n",
       "      <td> 29</td>\n",
       "      <td> 0</td>\n",
       "      <td> 19</td>\n",
       "      <td> 484.18088</td>\n",
       "      <td> 35000</td>\n",
       "      <td> 42.085812</td>\n",
       "      <td> -71.354173</td>\n",
       "    </tr>\n",
       "    <tr>\n",
       "      <th>3  </th>\n",
       "      <td>  811</td>\n",
       "      <td> 29</td>\n",
       "      <td> 0</td>\n",
       "      <td> 19</td>\n",
       "      <td> 458.84508</td>\n",
       "      <td> 37000</td>\n",
       "      <td> 42.023049</td>\n",
       "      <td> -72.031752</td>\n",
       "    </tr>\n",
       "    <tr>\n",
       "      <th>4  </th>\n",
       "      <td>  812</td>\n",
       "      <td> 29</td>\n",
       "      <td> 0</td>\n",
       "      <td> 19</td>\n",
       "      <td> 476.91320</td>\n",
       "      <td> 33000</td>\n",
       "      <td> 42.368452</td>\n",
       "      <td> -85.265022</td>\n",
       "    </tr>\n",
       "    <tr>\n",
       "      <th>5  </th>\n",
       "      <td>  813</td>\n",
       "      <td> 29</td>\n",
       "      <td> 0</td>\n",
       "      <td> 19</td>\n",
       "      <td> 481.78734</td>\n",
       "      <td> 37000</td>\n",
       "      <td> 41.799785</td>\n",
       "      <td> -71.854765</td>\n",
       "    </tr>\n",
       "    <tr>\n",
       "      <th>6  </th>\n",
       "      <td>  815</td>\n",
       "      <td> 29</td>\n",
       "      <td> 0</td>\n",
       "      <td> 19</td>\n",
       "      <td> 458.84508</td>\n",
       "      <td> 37000</td>\n",
       "      <td> 41.331577</td>\n",
       "      <td> -73.027464</td>\n",
       "    </tr>\n",
       "    <tr>\n",
       "      <th>7  </th>\n",
       "      <td>  816</td>\n",
       "      <td> 29</td>\n",
       "      <td> 0</td>\n",
       "      <td> 19</td>\n",
       "      <td> 478.41682</td>\n",
       "      <td> 35000</td>\n",
       "      <td> 43.003071</td>\n",
       "      <td> -69.818878</td>\n",
       "    </tr>\n",
       "    <tr>\n",
       "      <th>8  </th>\n",
       "      <td>  817</td>\n",
       "      <td> 29</td>\n",
       "      <td> 0</td>\n",
       "      <td> 19</td>\n",
       "      <td> 465.28117</td>\n",
       "      <td> 33000</td>\n",
       "      <td> 41.566298</td>\n",
       "      <td> -72.553204</td>\n",
       "    </tr>\n",
       "    <tr>\n",
       "      <th>9  </th>\n",
       "      <td>  818</td>\n",
       "      <td> 29</td>\n",
       "      <td> 0</td>\n",
       "      <td> 19</td>\n",
       "      <td> 458.84508</td>\n",
       "      <td> 37000</td>\n",
       "      <td> 41.364561</td>\n",
       "      <td> -73.116025</td>\n",
       "    </tr>\n",
       "    <tr>\n",
       "      <th>10 </th>\n",
       "      <td>  819</td>\n",
       "      <td> 29</td>\n",
       "      <td> 0</td>\n",
       "      <td> 19</td>\n",
       "      <td> 461.12464</td>\n",
       "      <td> 35000</td>\n",
       "      <td> 41.170108</td>\n",
       "      <td> -73.089701</td>\n",
       "    </tr>\n",
       "    <tr>\n",
       "      <th>11 </th>\n",
       "      <td>  820</td>\n",
       "      <td> 29</td>\n",
       "      <td> 0</td>\n",
       "      <td> 19</td>\n",
       "      <td> 461.12464</td>\n",
       "      <td> 35000</td>\n",
       "      <td> 40.853151</td>\n",
       "      <td> -73.504810</td>\n",
       "    </tr>\n",
       "    <tr>\n",
       "      <th>12 </th>\n",
       "      <td>  822</td>\n",
       "      <td> 29</td>\n",
       "      <td> 0</td>\n",
       "      <td> 19</td>\n",
       "      <td> 495.70899</td>\n",
       "      <td> 35000</td>\n",
       "      <td> 40.794607</td>\n",
       "      <td> -74.007707</td>\n",
       "    </tr>\n",
       "    <tr>\n",
       "      <th>13 </th>\n",
       "      <td>  823</td>\n",
       "      <td> 29</td>\n",
       "      <td> 0</td>\n",
       "      <td> 19</td>\n",
       "      <td> 465.28117</td>\n",
       "      <td> 33000</td>\n",
       "      <td> 40.692500</td>\n",
       "      <td> -74.168667</td>\n",
       "    </tr>\n",
       "    <tr>\n",
       "      <th>94 </th>\n",
       "      <td>  947</td>\n",
       "      <td> 29</td>\n",
       "      <td> 0</td>\n",
       "      <td> 19</td>\n",
       "      <td> 481.78734</td>\n",
       "      <td> 41000</td>\n",
       "      <td> 34.680854</td>\n",
       "      <td>-117.948070</td>\n",
       "    </tr>\n",
       "    <tr>\n",
       "      <th>103</th>\n",
       "      <td>  961</td>\n",
       "      <td> 29</td>\n",
       "      <td> 0</td>\n",
       "      <td> 19</td>\n",
       "      <td> 488.54523</td>\n",
       "      <td> 33000</td>\n",
       "      <td> 33.583366</td>\n",
       "      <td> -95.175079</td>\n",
       "    </tr>\n",
       "    <tr>\n",
       "      <th>154</th>\n",
       "      <td> 1012</td>\n",
       "      <td> 29</td>\n",
       "      <td> 0</td>\n",
       "      <td> 19</td>\n",
       "      <td> 488.54523</td>\n",
       "      <td> 33000</td>\n",
       "      <td> 38.983102</td>\n",
       "      <td>-121.441440</td>\n",
       "    </tr>\n",
       "  </tbody>\n",
       "</table>\n",
       "<p>17 rows × 8 columns</p>\n",
       "</div>"
      ],
      "text/plain": [
       "             flight  date  wind  time      speed  altitude   latitude  \\\n",
       "flightIndex                                                             \n",
       "0               805    29     0    19  465.28117     33000  42.215822   \n",
       "1               806    29     0    19  470.31621     37000  42.317306   \n",
       "2               808    29     0    19  484.18088     35000  42.085812   \n",
       "3               811    29     0    19  458.84508     37000  42.023049   \n",
       "4               812    29     0    19  476.91320     33000  42.368452   \n",
       "5               813    29     0    19  481.78734     37000  41.799785   \n",
       "6               815    29     0    19  458.84508     37000  41.331577   \n",
       "7               816    29     0    19  478.41682     35000  43.003071   \n",
       "8               817    29     0    19  465.28117     33000  41.566298   \n",
       "9               818    29     0    19  458.84508     37000  41.364561   \n",
       "10              819    29     0    19  461.12464     35000  41.170108   \n",
       "11              820    29     0    19  461.12464     35000  40.853151   \n",
       "12              822    29     0    19  495.70899     35000  40.794607   \n",
       "13              823    29     0    19  465.28117     33000  40.692500   \n",
       "94              947    29     0    19  481.78734     41000  34.680854   \n",
       "103             961    29     0    19  488.54523     33000  33.583366   \n",
       "154            1012    29     0    19  488.54523     33000  38.983102   \n",
       "\n",
       "              longitude  \n",
       "flightIndex              \n",
       "0            -71.450293  \n",
       "1            -71.434381  \n",
       "2            -71.354173  \n",
       "3            -72.031752  \n",
       "4            -85.265022  \n",
       "5            -71.854765  \n",
       "6            -73.027464  \n",
       "7            -69.818878  \n",
       "8            -72.553204  \n",
       "9            -73.116025  \n",
       "10           -73.089701  \n",
       "11           -73.504810  \n",
       "12           -74.007707  \n",
       "13           -74.168667  \n",
       "94          -117.948070  \n",
       "103          -95.175079  \n",
       "154         -121.441440  \n",
       "\n",
       "[17 rows x 8 columns]"
      ]
     },
     "execution_count": 14,
     "metadata": {},
     "output_type": "execute_result"
    }
   ],
   "source": [
    "t = trajectories[trajectories['time'] == 19]\n",
    "t"
   ]
  },
  {
   "cell_type": "code",
   "execution_count": 15,
   "metadata": {
    "collapsed": false
   },
   "outputs": [],
   "source": [
    "import itertools"
   ]
  },
  {
   "cell_type": "code",
   "execution_count": 16,
   "metadata": {
    "collapsed": false
   },
   "outputs": [],
   "source": [
    "flightPairs = np.array(list(itertools.combinations(t.index, 2)))"
   ]
  },
  {
   "cell_type": "code",
   "execution_count": 17,
   "metadata": {
    "collapsed": false
   },
   "outputs": [
    {
     "data": {
      "text/plain": [
       "42.023049"
      ]
     },
     "execution_count": 17,
     "metadata": {},
     "output_type": "execute_result"
    }
   ],
   "source": [
    "t['latitude'][3]"
   ]
  },
  {
   "cell_type": "code",
   "execution_count": 18,
   "metadata": {
    "collapsed": false
   },
   "outputs": [
    {
     "data": {
      "text/html": [
       "<div style=\"max-height:1000px;max-width:1500px;overflow:auto;\">\n",
       "<table border=\"1\" class=\"dataframe\">\n",
       "  <thead>\n",
       "    <tr style=\"text-align: right;\">\n",
       "      <th></th>\n",
       "      <th>first</th>\n",
       "      <th>second</th>\n",
       "    </tr>\n",
       "  </thead>\n",
       "  <tbody>\n",
       "    <tr>\n",
       "      <th>0</th>\n",
       "      <td> 0</td>\n",
       "      <td> 1</td>\n",
       "    </tr>\n",
       "    <tr>\n",
       "      <th>1</th>\n",
       "      <td> 0</td>\n",
       "      <td> 2</td>\n",
       "    </tr>\n",
       "    <tr>\n",
       "      <th>2</th>\n",
       "      <td> 0</td>\n",
       "      <td> 3</td>\n",
       "    </tr>\n",
       "    <tr>\n",
       "      <th>3</th>\n",
       "      <td> 0</td>\n",
       "      <td> 4</td>\n",
       "    </tr>\n",
       "    <tr>\n",
       "      <th>4</th>\n",
       "      <td> 0</td>\n",
       "      <td> 5</td>\n",
       "    </tr>\n",
       "  </tbody>\n",
       "</table>\n",
       "<p>5 rows × 2 columns</p>\n",
       "</div>"
      ],
      "text/plain": [
       "   first  second\n",
       "0      0       1\n",
       "1      0       2\n",
       "2      0       3\n",
       "3      0       4\n",
       "4      0       5\n",
       "\n",
       "[5 rows x 2 columns]"
      ]
     },
     "execution_count": 18,
     "metadata": {},
     "output_type": "execute_result"
    }
   ],
   "source": [
    "df = pd.DataFrame(flightPairs, columns=['first', 'second'])\n",
    "df.head()"
   ]
  },
  {
   "cell_type": "code",
   "execution_count": 19,
   "metadata": {
    "collapsed": false
   },
   "outputs": [],
   "source": [
    "df['isConflict'] = df.apply(lambda x: \n",
    "         detectSpatialConflict(\n",
    "        t['latitude'][x['first']], \n",
    "        t['longitude'][x['first']], \n",
    "        t['latitude'][x['second']], \n",
    "        t['longitude'][x['second']], mindistance)\n",
    "         , axis=1)"
   ]
  },
  {
   "cell_type": "code",
   "execution_count": 20,
   "metadata": {
    "collapsed": false
   },
   "outputs": [
    {
     "data": {
      "text/html": [
       "<div style=\"max-height:1000px;max-width:1500px;overflow:auto;\">\n",
       "<table border=\"1\" class=\"dataframe\">\n",
       "  <thead>\n",
       "    <tr style=\"text-align: right;\">\n",
       "      <th></th>\n",
       "      <th>first</th>\n",
       "      <th>second</th>\n",
       "      <th>isConflict</th>\n",
       "    </tr>\n",
       "  </thead>\n",
       "  <tbody>\n",
       "    <tr>\n",
       "      <th>0</th>\n",
       "      <td> 0</td>\n",
       "      <td> 1</td>\n",
       "      <td>  True</td>\n",
       "    </tr>\n",
       "    <tr>\n",
       "      <th>1</th>\n",
       "      <td> 0</td>\n",
       "      <td> 2</td>\n",
       "      <td>  True</td>\n",
       "    </tr>\n",
       "    <tr>\n",
       "      <th>2</th>\n",
       "      <td> 0</td>\n",
       "      <td> 3</td>\n",
       "      <td>  True</td>\n",
       "    </tr>\n",
       "    <tr>\n",
       "      <th>3</th>\n",
       "      <td> 0</td>\n",
       "      <td> 4</td>\n",
       "      <td> False</td>\n",
       "    </tr>\n",
       "    <tr>\n",
       "      <th>4</th>\n",
       "      <td> 0</td>\n",
       "      <td> 5</td>\n",
       "      <td> False</td>\n",
       "    </tr>\n",
       "  </tbody>\n",
       "</table>\n",
       "<p>5 rows × 3 columns</p>\n",
       "</div>"
      ],
      "text/plain": [
       "   first  second isConflict\n",
       "0      0       1       True\n",
       "1      0       2       True\n",
       "2      0       3       True\n",
       "3      0       4      False\n",
       "4      0       5      False\n",
       "\n",
       "[5 rows x 3 columns]"
      ]
     },
     "execution_count": 20,
     "metadata": {},
     "output_type": "execute_result"
    }
   ],
   "source": [
    "df.head()"
   ]
  },
  {
   "cell_type": "code",
   "execution_count": 21,
   "metadata": {
    "collapsed": false
   },
   "outputs": [],
   "source": [
    "grouped = trajectories.groupby('time')"
   ]
  },
  {
   "cell_type": "code",
   "execution_count": 19,
   "metadata": {
    "collapsed": false
   },
   "outputs": [],
   "source": [
    "trajectories.to_hdf('trajectories.h5', 'trajectories', mode='w')"
   ]
  },
  {
   "cell_type": "code",
   "execution_count": 20,
   "metadata": {
    "collapsed": false
   },
   "outputs": [],
   "source": [
    "tra = pd.read_hdf('trajectories.h5', 'trajectories')"
   ]
  },
  {
   "cell_type": "code",
   "execution_count": 21,
   "metadata": {
    "collapsed": false
   },
   "outputs": [
    {
     "data": {
      "text/html": [
       "<div style=\"max-height:1000px;max-width:1500px;overflow:auto;\">\n",
       "<table border=\"1\" class=\"dataframe\">\n",
       "  <thead>\n",
       "    <tr style=\"text-align: right;\">\n",
       "      <th></th>\n",
       "      <th>flight</th>\n",
       "      <th>date</th>\n",
       "      <th>wind</th>\n",
       "      <th>time</th>\n",
       "      <th>speed</th>\n",
       "      <th>altitude</th>\n",
       "      <th>latitude</th>\n",
       "      <th>longitude</th>\n",
       "    </tr>\n",
       "    <tr>\n",
       "      <th>flightIndex</th>\n",
       "      <th></th>\n",
       "      <th></th>\n",
       "      <th></th>\n",
       "      <th></th>\n",
       "      <th></th>\n",
       "      <th></th>\n",
       "      <th></th>\n",
       "      <th></th>\n",
       "    </tr>\n",
       "  </thead>\n",
       "  <tbody>\n",
       "    <tr>\n",
       "      <th>0</th>\n",
       "      <td> 805</td>\n",
       "      <td> 29</td>\n",
       "      <td> 0</td>\n",
       "      <td> 2</td>\n",
       "      <td> 465.28117</td>\n",
       "      <td> 33000</td>\n",
       "      <td> 40.692500</td>\n",
       "      <td>-74.168667</td>\n",
       "    </tr>\n",
       "    <tr>\n",
       "      <th>0</th>\n",
       "      <td> 805</td>\n",
       "      <td> 29</td>\n",
       "      <td> 0</td>\n",
       "      <td> 3</td>\n",
       "      <td> 465.28117</td>\n",
       "      <td> 33000</td>\n",
       "      <td> 40.785863</td>\n",
       "      <td>-74.013012</td>\n",
       "    </tr>\n",
       "    <tr>\n",
       "      <th>0</th>\n",
       "      <td> 805</td>\n",
       "      <td> 29</td>\n",
       "      <td> 0</td>\n",
       "      <td> 4</td>\n",
       "      <td> 465.28117</td>\n",
       "      <td> 33000</td>\n",
       "      <td> 40.878762</td>\n",
       "      <td>-73.856473</td>\n",
       "    </tr>\n",
       "    <tr>\n",
       "      <th>0</th>\n",
       "      <td> 805</td>\n",
       "      <td> 29</td>\n",
       "      <td> 0</td>\n",
       "      <td> 5</td>\n",
       "      <td> 465.28117</td>\n",
       "      <td> 33000</td>\n",
       "      <td> 40.971273</td>\n",
       "      <td>-73.699485</td>\n",
       "    </tr>\n",
       "    <tr>\n",
       "      <th>0</th>\n",
       "      <td> 805</td>\n",
       "      <td> 29</td>\n",
       "      <td> 0</td>\n",
       "      <td> 6</td>\n",
       "      <td> 465.28117</td>\n",
       "      <td> 33000</td>\n",
       "      <td> 41.063590</td>\n",
       "      <td>-73.542087</td>\n",
       "    </tr>\n",
       "  </tbody>\n",
       "</table>\n",
       "<p>5 rows × 8 columns</p>\n",
       "</div>"
      ],
      "text/plain": [
       "             flight  date  wind  time      speed  altitude   latitude  \\\n",
       "flightIndex                                                             \n",
       "0               805    29     0     2  465.28117     33000  40.692500   \n",
       "0               805    29     0     3  465.28117     33000  40.785863   \n",
       "0               805    29     0     4  465.28117     33000  40.878762   \n",
       "0               805    29     0     5  465.28117     33000  40.971273   \n",
       "0               805    29     0     6  465.28117     33000  41.063590   \n",
       "\n",
       "             longitude  \n",
       "flightIndex             \n",
       "0           -74.168667  \n",
       "0           -74.013012  \n",
       "0           -73.856473  \n",
       "0           -73.699485  \n",
       "0           -73.542087  \n",
       "\n",
       "[5 rows x 8 columns]"
      ]
     },
     "execution_count": 21,
     "metadata": {},
     "output_type": "execute_result"
    }
   ],
   "source": [
    "tra.head()"
   ]
  },
  {
   "cell_type": "code",
   "execution_count": 24,
   "metadata": {
    "collapsed": false
   },
   "outputs": [
    {
     "data": {
      "text/plain": [
       "array(10)"
      ]
     },
     "execution_count": 24,
     "metadata": {},
     "output_type": "execute_result"
    }
   ],
   "source": [
    "np.array(10, dtype=int)"
   ]
  },
  {
   "cell_type": "code",
   "execution_count": null,
   "metadata": {
    "collapsed": true
   },
   "outputs": [],
   "source": []
  }
 ],
 "metadata": {
  "kernelspec": {
   "display_name": "Python 2",
   "language": "python",
   "name": "python2"
  },
  "language_info": {
   "codemirror_mode": {
    "name": "ipython",
    "version": 2
   },
   "file_extension": ".py",
   "mimetype": "text/x-python",
   "name": "python",
   "nbconvert_exporter": "python",
   "pygments_lexer": "ipython2",
   "version": "2.7.6"
  }
 },
 "nbformat": 4,
 "nbformat_minor": 0
}
