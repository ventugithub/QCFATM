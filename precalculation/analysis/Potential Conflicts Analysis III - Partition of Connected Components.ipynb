{
 "cells": [
  {
   "cell_type": "markdown",
   "metadata": {
    "slideshow": {
     "slide_type": "slide"
    }
   },
   "source": [
    "# Partition of Connected Components #"
   ]
  },
  {
   "cell_type": "code",
   "execution_count": 20,
   "metadata": {
    "collapsed": false,
    "slideshow": {
     "slide_type": "skip"
    }
   },
   "outputs": [],
   "source": [
    "import sys\n",
    "sys.path.append('../')\n",
    "import pandas as pd\n",
    "import numpy as np\n",
    "import matplotlib.pyplot as plt\n",
    "import matplotlib\n",
    "import matplotlib.colors\n",
    "from mpl_toolkits.basemap import Basemap\n",
    "import conflict\n",
    "import analysis\n",
    "import os\n",
    "import networkx as nx\n",
    "import tools\n",
    "import matplotlib.backends.backend_pdf\n",
    "import networkx as nx\n",
    "import metis"
   ]
  },
  {
   "cell_type": "code",
   "execution_count": 2,
   "metadata": {
    "collapsed": false,
    "slideshow": {
     "slide_type": "skip"
    }
   },
   "outputs": [],
   "source": [
    "# read in all data\n",
    "inputFile = '../data/TrajDataV2_20120729.txt'\n",
    "trajectories = pd.read_csv('%s.csv' % inputFile, index_col='flightIndex')\n",
    "\n",
    "mindistance = 30.0\n",
    "mintime = 21\n",
    "delayPerConflict = 0\n",
    "dthreshold = 3\n",
    "maxDepartDelay = 18\n",
    "\n",
    "name = \"mindist%05.1f_mintime%03i\" % (mindistance, mintime)\n",
    "rawPointConflictFile = '%s.%s.rawPointConflicts.csv' % (inputFile, name)\n",
    "pointConflictFile = '%s.%s.pointConflicts.csv' % (inputFile, name)       \n",
    "parallelConflictFile = '%s.%s.parallelConflicts.csv' % (inputFile, name)\n",
    "flights2ConflictsFile = \"%s.%s.flights2Conflicts_delay%03i_thres%03i_depart%03i.h5\" % (inputFile, name, delayPerConflict, dthreshold, maxDepartDelay)\n",
    "reducedPointConflictFile = \"%s.%s.reducedPointConflicts_delay%03i_thres%03i_depart%03i.csv\" % (inputFile, name, delayPerConflict, dthreshold, maxDepartDelay)\n",
    "reducedParallelConflictFile = \"%s.%s.reducedParallelConflicts_delay%03i_thres%03i_depart%03i.csv\" % (inputFile, name, delayPerConflict, dthreshold, maxDepartDelay)\n",
    "\n",
    "rawPointConflicts = pd.read_csv(rawPointConflictFile, index_col='conflictIndex')\n",
    "pointConflicts = pd.read_csv(pointConflictFile, index_col='conflictIndex')\n",
    "parallelConflicts = pd.read_csv(parallelConflictFile, index_col='parallelConflict')\n",
    "flights2Conflicts = pd.read_hdf(flights2ConflictsFile, 'flights2Conflicts')\n",
    "reducedPointConflicts = pd.read_csv(reducedPointConflictFile, index_col='conflictIndex')\n",
    "reducedParallelConflicts= pd.read_csv(reducedParallelConflictFile, index_col='parallelConflict')        "
   ]
  },
  {
   "cell_type": "code",
   "execution_count": 3,
   "metadata": {
    "collapsed": true
   },
   "outputs": [],
   "source": [
    "%matplotlib inline"
   ]
  },
  {
   "cell_type": "code",
   "execution_count": 21,
   "metadata": {
    "collapsed": true
   },
   "outputs": [],
   "source": [
    "conflictGraph = analysis.getConflictGraph(reducedPointConflicts, reducedParallelConflicts)"
   ]
  },
  {
   "cell_type": "code",
   "execution_count": 22,
   "metadata": {
    "collapsed": false
   },
   "outputs": [],
   "source": [
    "components = nx.connected_component_subgraphs(conflictGraph)\n",
    "connectedComponents = sorted(list(components), key=lambda x: len(x.nodes()))"
   ]
  },
  {
   "cell_type": "code",
   "execution_count": 136,
   "metadata": {
    "collapsed": true
   },
   "outputs": [],
   "source": [
    "component = connectedComponents[40]"
   ]
  },
  {
   "cell_type": "code",
   "execution_count": 137,
   "metadata": {
    "collapsed": false
   },
   "outputs": [],
   "source": [
    "def plotConflictGraph(graph, node_color='lightblue', drawWeights=None):\n",
    "    \n",
    "    component = graph\n",
    "    layout = nx.circular_layout(component)\n",
    "\n",
    "    widthToDraw_min = 0.5\n",
    "    widthToDraw_max = 3.0\n",
    "    widthToDraw_mid = 0.5 * (widthToDraw_max + widthToDraw_min)\n",
    "    # width = minimum absolute time difference\n",
    "    minAbsTimeDiff = [l[2] for l in list(component.edges_iter(data='minAbsTimeDiffWithPartner'))]\n",
    "    minMinAbsTimeDiff = np.min(minAbsTimeDiff)\n",
    "    maxMinAbsTimeDiff = np.max(minAbsTimeDiff)\n",
    "    midMinAbsTimeDiff = 0.5 * (minMinAbsTimeDiff + maxMinAbsTimeDiff)\n",
    "    if maxMinAbsTimeDiff > minMinAbsTimeDiff:\n",
    "        widthToDraw = (widthToDraw_min - widthToDraw_max) * (minAbsTimeDiff - minMinAbsTimeDiff) / (maxMinAbsTimeDiff - minMinAbsTimeDiff) + widthToDraw_max\n",
    "    else:\n",
    "        widthToDraw = widthToDraw_max\n",
    "\n",
    "    nx.draw_networkx(component,\n",
    "                     pos=layout,\n",
    "                     node_size=600,\n",
    "                     node_color=node_color,\n",
    "                     font_size=10,\n",
    "                     font_color='slategray',\n",
    "                     linewidths=0.2,\n",
    "                     edge_color='slategray',\n",
    "                     with_labels=component.nodes(),\n",
    "                     width=widthToDraw)\n",
    "    if drawWeights is not None:\n",
    "        edgeLabels = {}\n",
    "        for l in list(component.edges_iter(data=drawWeights)):\n",
    "            edgeLabels[(l[0], l[1])] = l[2]        \n",
    "        nx.draw_networkx_edge_labels(component, layout, edge_labels=edgeLabels)\n",
    "    plt.axis('off');"
   ]
  },
  {
   "cell_type": "markdown",
   "metadata": {},
   "source": [
    "## Original conflict graph ##\n",
    "The edge weights are the minimum absolute time difference of two trajectory points of both involved flights"
   ]
  },
  {
   "cell_type": "code",
   "execution_count": 138,
   "metadata": {
    "collapsed": false
   },
   "outputs": [
    {
     "data": {
      "image/png": "[encoded data removed]",
      "text/plain": [
       "<matplotlib.figure.Figure at 0x7f12e95b27d0>"
      ]
     },
     "metadata": {},
     "output_type": "display_data"
    }
   ],
   "source": [
    "plotConflictGraph(component, drawWeights='minAbsTimeDiffWithPartner')"
   ]
  },
  {
   "cell_type": "code",
   "execution_count": 139,
   "metadata": {
    "collapsed": false
   },
   "outputs": [],
   "source": [
    "# get maximum minAbsTimeDiffWithPartner of all edges\n",
    "maxAbsTimeDiff = 0\n",
    "for i, j in component.edges():\n",
    "    absTimeDiff = component.edge[i][j]['minAbsTimeDiffWithPartner']\n",
    "    if absTimeDiff > maxAbsTimeDiff:\n",
    "        maxAbsTimeDiff = absTimeDiff\n",
    "        \n",
    "# set weights for graph partitioning to maxAbsTimeDiff - absTimeDiff + 1\n",
    "# in order to penalize edge cuts for small time differences\n",
    "for i, j in component.edges():\n",
    "    absTimeDiff = component.edge[i][j]['minAbsTimeDiffWithPartner']\n",
    "    component.edge[i][j]['weight'] = int(maxAbsTimeDiff - absTimeDiff + 1)\n",
    "\n",
    "# add graph attribute to tell metis what to use as edge weights\n",
    "component.graph['edge_weight_attr'] = 'weight'"
   ]
  },
  {
   "cell_type": "code",
   "execution_count": 140,
   "metadata": {
    "collapsed": false
   },
   "outputs": [],
   "source": [
    "edgecut, partition = metis.part_graph(component, nparts=2)"
   ]
  },
  {
   "cell_type": "code",
   "execution_count": 141,
   "metadata": {
    "collapsed": false
   },
   "outputs": [],
   "source": [
    "node_color = ['lightblue' if n is 0 else 'lightgreen' for n in partition]"
   ]
  },
  {
   "cell_type": "markdown",
   "metadata": {},
   "source": [
    "## Partitioned conflict graph ##\n",
    "For the edge weight we use an inverted minimum absolute time difference of two trajectory points of both involved flights $\\Delta t$. I.e. $\\Delta t_\\text{max} - \\Delta_t$ so that edge cuts for small time differences are penalized"
   ]
  },
  {
   "cell_type": "code",
   "execution_count": 142,
   "metadata": {
    "collapsed": false
   },
   "outputs": [
    {
     "data": {
      "image/png": "[encoded data removed]",
      "text/plain": [
       "<matplotlib.figure.Figure at 0x7f12e95825d0>"
      ]
     },
     "metadata": {},
     "output_type": "display_data"
    }
   ],
   "source": [
    "plotConflictGraph(component, node_color, drawWeights='weight')"
   ]
  },
  {
   "cell_type": "code",
   "execution_count": null,
   "metadata": {
    "collapsed": true
   },
   "outputs": [],
   "source": []
  }
 ],
 "metadata": {
  "hide_input": false,
  "kernelspec": {
   "display_name": "Python 2",
   "language": "python",
   "name": "python2"
  },
  "language_info": {
   "codemirror_mode": {
    "name": "ipython",
    "version": 2
   },
   "file_extension": ".py",
   "mimetype": "text/x-python",
   "name": "python",
   "nbconvert_exporter": "python",
   "pygments_lexer": "ipython2",
   "version": "2.7.12"
  },
  "latex_envs": {
   "LaTeX_envs_menu_present": true,
   "autocomplete": true,
   "bibliofile": "biblio.bib",
   "cite_by": "apalike",
   "current_citInitial": 1,
   "eqLabelWithNumbers": true,
   "eqNumInitial": 1,
   "hotkeys": {
    "equation": "Ctrl-E",
    "itemize": "Ctrl-I"
   },
   "labels_anchors": false,
   "latex_user_defs": false,
   "report_style_numbering": false,
   "user_envs_cfg": false
  }
 },
 "nbformat": 4,
 "nbformat_minor": 0
}
