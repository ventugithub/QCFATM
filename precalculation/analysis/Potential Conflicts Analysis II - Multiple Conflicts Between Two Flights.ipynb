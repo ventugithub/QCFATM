{
 "cells": [
  {
   "cell_type": "markdown",
   "metadata": {},
   "source": [
    "# Analyse consecutive conflicts between the same flights #"
   ]
  },
  {
   "cell_type": "code",
   "execution_count": 5,
   "metadata": {
    "collapsed": false,
    "slideshow": {
     "slide_type": "skip"
    }
   },
   "outputs": [],
   "source": [
    "import sys\n",
    "sys.path.append('../')\n",
    "import pandas as pd\n",
    "import numpy as np\n",
    "import matplotlib.pyplot as plt\n",
    "import matplotlib\n",
    "import matplotlib.colors\n",
    "from mpl_toolkits.basemap import Basemap\n",
    "import conflict\n",
    "import analysis\n",
    "import os\n",
    "import networkx as nx\n",
    "import tools\n",
    "import matplotlib.backends.backend_pdf\n",
    "import matplotlib.backends.backend_pgf"
   ]
  },
  {
   "cell_type": "code",
   "execution_count": 6,
   "metadata": {
    "collapsed": false,
    "slideshow": {
     "slide_type": "skip"
    }
   },
   "outputs": [],
   "source": [
    "# read in all data\n",
    "inputFile = '../data/TrajDataV2_20120729.txt'\n",
    "trajectories = pd.read_csv('%s.csv' % inputFile, index_col='flightIndex')\n",
    "\n",
    "mindistance = 30.0\n",
    "mintime = 21\n",
    "delayPerConflict = 0\n",
    "dthreshold = 3\n",
    "maxDepartDelay = 18\n",
    "\n",
    "name = \"mindist%05.1f_mintime%03i\" % (mindistance, mintime)\n",
    "rawPointConflictFile = '%s.%s.rawPointConflicts.csv' % (inputFile, name)\n",
    "pointConflictFile = '%s.%s.pointConflicts.csv' % (inputFile, name)       \n",
    "parallelConflictFile = '%s.%s.parallelConflicts.csv' % (inputFile, name)\n",
    "flights2ConflictsFile = \"%s.%s.flights2Conflicts_delay%03i_thres%03i_depart%03i.h5\" % (inputFile, name, delayPerConflict, dthreshold, maxDepartDelay)\n",
    "reducedPointConflictFile = \"%s.%s.reducedPointConflicts_delay%03i_thres%03i_depart%03i.csv\" % (inputFile, name, delayPerConflict, dthreshold, maxDepartDelay)\n",
    "reducedParallelConflictFile = \"%s.%s.reducedParallelConflicts_delay%03i_thres%03i_depart%03i.csv\" % (inputFile, name, delayPerConflict, dthreshold, maxDepartDelay)\n",
    "\n",
    "rawPointConflicts = pd.read_csv(rawPointConflictFile, index_col='conflictIndex')\n",
    "pointConflicts = pd.read_csv(pointConflictFile, index_col='conflictIndex')\n",
    "parallelConflicts = pd.read_csv(parallelConflictFile, index_col='parallelConflict')\n",
    "flights2Conflicts = pd.read_hdf(flights2ConflictsFile, 'flights2Conflicts')\n",
    "reducedPointConflicts = pd.read_csv(reducedPointConflictFile, index_col='conflictIndex')\n",
    "reducedParallelConflicts= pd.read_csv(reducedParallelConflictFile, index_col='parallelConflict')        "
   ]
  },
  {
   "cell_type": "markdown",
   "metadata": {},
   "source": [
    "For each pair of flights\n",
    "  * Check if there are more than one conflicts\n",
    "  * If yes, calculate the difference in the maximum and minimum time difference"
   ]
  },
  {
   "cell_type": "code",
   "execution_count": 7,
   "metadata": {
    "collapsed": false
   },
   "outputs": [],
   "source": [
    "# calculate time diff\n",
    "c = pointConflicts\n",
    "c['minTimeDiff'] = c.time1 - c.time2\n",
    "c['maxTimeDiff'] = c.time1 - c.time2\n",
    "# drop unwanted columns\n",
    "c = c[['flight1', 'flight2', 'minTimeDiff', 'maxTimeDiff']]\n",
    "NPointConflicts = c.shape[0]"
   ]
  },
  {
   "cell_type": "code",
   "execution_count": 8,
   "metadata": {
    "collapsed": false
   },
   "outputs": [],
   "source": [
    "# calculate time diff\n",
    "pc = parallelConflicts\n",
    "pc['timeDiff'] = pc.time1 - pc.time2\n",
    "# conflict index as column\n",
    "pc = pc.reset_index()\n",
    "# group by conflict index\n",
    "grouped = pc.groupby('parallelConflict')\n",
    "# calculate minimum and maximum time difference while keeping flight numbers\n",
    "pc = grouped.agg({'flight1': 'mean', 'flight2': 'mean', 'timeDiff': [min, max]})\n",
    "# set right columns\n",
    "pc.columns = ['flight1', 'minTimeDiff', 'maxTimeDiff', 'flight2']\n",
    "# shift index \n",
    "pc.index = pc.index + NPointConflicts"
   ]
  },
  {
   "cell_type": "code",
   "execution_count": 9,
   "metadata": {
    "collapsed": false
   },
   "outputs": [],
   "source": [
    "# concatenate point and parallel conflicts\n",
    "conflicts = pd.concat([c, pc])\n",
    "conflicts.index.name = 'conflictIndex'\n",
    "conflicts = conflicts.reset_index()"
   ]
  },
  {
   "cell_type": "code",
   "execution_count": 10,
   "metadata": {
    "collapsed": true
   },
   "outputs": [],
   "source": [
    "%matplotlib inline"
   ]
  },
  {
   "cell_type": "markdown",
   "metadata": {},
   "source": [
    "## Number of conflicts per pair of flights ##"
   ]
  },
  {
   "cell_type": "code",
   "execution_count": 11,
   "metadata": {
    "collapsed": false
   },
   "outputs": [],
   "source": [
    "# group by pair of flights\n",
    "grouped = conflicts.groupby(['flight1', 'flight2'])\n",
    "numberOfConflictsPerFlightPair = grouped.agg({'conflictIndex': lambda x: len(set(list(x)))})"
   ]
  },
  {
   "cell_type": "code",
   "execution_count": 12,
   "metadata": {
    "collapsed": false
   },
   "outputs": [
    {
     "data": {
      "image/png": "[encoded data removed]",
      "text/plain": [
       "<matplotlib.figure.Figure at 0x7f7501667990>"
      ]
     },
     "metadata": {},
     "output_type": "display_data"
    }
   ],
   "source": [
    "fig = plt.figure(figsize=(16, 16))\n",
    "ax = fig.add_subplot(2, 1, 1)\n",
    "numberOfConflictsPerFlightPair.hist(bins=[0.5 + i for i in range(int(numberOfConflictsPerFlightPair.max()) + 1)], ax=ax);\n",
    "ax.set_yscale('log')\n",
    "ax.set_title('Number of conflicts per pair of flights')\n",
    "ax.set_xlabel('Number of conflicts')\n",
    "ax.set_ylabel('Number of pairs of flights');\n",
    "ax.grid('off')"
   ]
  },
  {
   "cell_type": "markdown",
   "metadata": {},
   "source": [
    "## Are there pairs of flights with non-consecutive conflict intervals? ##"
   ]
  },
  {
   "cell_type": "code",
   "execution_count": 13,
   "metadata": {
    "collapsed": true
   },
   "outputs": [],
   "source": [
    "def intervalsAreConsecutive(df):\n",
    "    df = df.sort_values(by=['minTimeDiff', 'maxTimeDiff'])\n",
    "    u = df.maxTimeDiff.values\n",
    "    l = df.minTimeDiff.values\n",
    "    N = len(u)\n",
    "    for i in range(1, N):\n",
    "        if max(u[:i]) < l[i] - 1:\n",
    "            return False\n",
    "    return True\n",
    "def maximumGapBetweenIntervals(df):\n",
    "    df = df.sort_values(by=['minTimeDiff', 'maxTimeDiff'])\n",
    "    u = df.maxTimeDiff.values\n",
    "    l = df.minTimeDiff.values\n",
    "    N = len(u)\n",
    "    maxGap = np.nan\n",
    "    for i in range(1, N):\n",
    "        gap = l[i] - max(u[:i])\n",
    "        if gap > 0 and (np.isnan(maxGap) or gap > maxGap):\n",
    "            maxGap = gap\n",
    "    return maxGap"
   ]
  },
  {
   "cell_type": "code",
   "execution_count": 14,
   "metadata": {
    "collapsed": false
   },
   "outputs": [],
   "source": [
    "consecutiveIntervals = conflicts.groupby(['flight1', 'flight2']).apply(intervalsAreConsecutive)"
   ]
  },
  {
   "cell_type": "code",
   "execution_count": 15,
   "metadata": {
    "collapsed": false
   },
   "outputs": [
    {
     "data": {
      "text/html": [
       "<div>\n",
       "<table border=\"1\" class=\"dataframe\">\n",
       "  <thead>\n",
       "    <tr style=\"text-align: right;\">\n",
       "      <th></th>\n",
       "      <th></th>\n",
       "      <th>numberOfConflictsPerFlightPair</th>\n",
       "      <th>intervalsAreConsectutive</th>\n",
       "    </tr>\n",
       "    <tr>\n",
       "      <th>flight1</th>\n",
       "      <th>flight2</th>\n",
       "      <th></th>\n",
       "      <th></th>\n",
       "    </tr>\n",
       "  </thead>\n",
       "  <tbody>\n",
       "    <tr>\n",
       "      <th rowspan=\"2\" valign=\"top\">0</th>\n",
       "      <th>8</th>\n",
       "      <td>1</td>\n",
       "      <td>True</td>\n",
       "    </tr>\n",
       "    <tr>\n",
       "      <th>13</th>\n",
       "      <td>2</td>\n",
       "      <td>True</td>\n",
       "    </tr>\n",
       "    <tr>\n",
       "      <th rowspan=\"3\" valign=\"top\">1</th>\n",
       "      <th>3</th>\n",
       "      <td>2</td>\n",
       "      <td>True</td>\n",
       "    </tr>\n",
       "    <tr>\n",
       "      <th>5</th>\n",
       "      <td>2</td>\n",
       "      <td>True</td>\n",
       "    </tr>\n",
       "    <tr>\n",
       "      <th>6</th>\n",
       "      <td>2</td>\n",
       "      <td>True</td>\n",
       "    </tr>\n",
       "  </tbody>\n",
       "</table>\n",
       "</div>"
      ],
      "text/plain": [
       "                 numberOfConflictsPerFlightPair intervalsAreConsectutive\n",
       "flight1 flight2                                                         \n",
       "0       8                                     1                     True\n",
       "        13                                    2                     True\n",
       "1       3                                     2                     True\n",
       "        5                                     2                     True\n",
       "        6                                     2                     True"
      ]
     },
     "execution_count": 15,
     "metadata": {},
     "output_type": "execute_result"
    }
   ],
   "source": [
    "nConflictInfo = pd.concat([numberOfConflictsPerFlightPair, consecutiveIntervals], axis=1)\n",
    "nConflictInfo.columns = ['numberOfConflictsPerFlightPair', 'intervalsAreConsectutive']\n",
    "nConflictInfo.head()"
   ]
  },
  {
   "cell_type": "code",
   "execution_count": 16,
   "metadata": {
    "collapsed": false
   },
   "outputs": [],
   "source": [
    "nNonConsecutiveIntervals = len(nConflictInfo[(nConflictInfo.numberOfConflictsPerFlightPair > 1) & (nConflictInfo.intervalsAreConsectutive == False)])\n",
    "nMoreThanOneConflict = len(nConflictInfo[nConflictInfo.numberOfConflictsPerFlightPair > 1])"
   ]
  },
  {
   "cell_type": "code",
   "execution_count": 17,
   "metadata": {
    "collapsed": false
   },
   "outputs": [
    {
     "name": "stdout",
     "output_type": "stream",
     "text": [
      "There are 441 of 3183 pairs of flights with more than one conflict\n",
      "45 of these 441 pairs of flights have non-consecutive time intervals\n"
     ]
    }
   ],
   "source": [
    "print \"There are\", nMoreThanOneConflict, \"of\", len(nConflictInfo), \"pairs of flights with more than one conflict\"\n",
    "print nNonConsecutiveIntervals, \"of these\", nMoreThanOneConflict, \"pairs of flights have non-consecutive time intervals\""
   ]
  },
  {
   "cell_type": "markdown",
   "metadata": {},
   "source": [
    "## How big are the gaps in the non-consecutive intervals ? ##"
   ]
  },
  {
   "cell_type": "code",
   "execution_count": 18,
   "metadata": {
    "collapsed": false
   },
   "outputs": [],
   "source": [
    "gaps = conflicts.groupby(['flight1', 'flight2']).apply(maximumGapBetweenIntervals)"
   ]
  },
  {
   "cell_type": "code",
   "execution_count": 19,
   "metadata": {
    "collapsed": false
   },
   "outputs": [
    {
     "data": {
      "image/png": "[encoded data removed]",
      "text/plain": [
       "<matplotlib.figure.Figure at 0x7f74f02f82d0>"
      ]
     },
     "metadata": {},
     "output_type": "display_data"
    }
   ],
   "source": [
    "fig = plt.figure(figsize=(16, 6))\n",
    "ax = fig.add_subplot(1, 1, 1)\n",
    "N = int(gaps.dropna().max())\n",
    "gaps.dropna().sort_values().hist(ax=ax, bins=[0.5 + i for i in range(0, N + 1)])\n",
    "ax.set_xlabel('Maximum gap between time intervals / minutes')\n",
    "ax.set_ylabel('Number of pairs of flights')\n",
    "ax.set_title('Time inverval gap sizes');\n",
    "ax.grid('on')\n",
    "\n",
    "pdf = matplotlib.backends.backend_pdf.PdfPages('potential_conflicts_non_overlapping_time_intervals_gap_sizes.pdf');\n",
    "pdf.savefig(figure=fig);\n",
    "pdf.close();"
   ]
  },
  {
   "cell_type": "markdown",
   "metadata": {},
   "source": [
    "## How many conflicts are involved in the case of non-overlapping intervals? ##"
   ]
  },
  {
   "cell_type": "code",
   "execution_count": 20,
   "metadata": {
    "collapsed": false
   },
   "outputs": [
    {
     "data": {
      "image/png": "[encoded data removed]",
      "text/plain": [
       "<matplotlib.figure.Figure at 0x7f74f0226810>"
      ]
     },
     "metadata": {},
     "output_type": "display_data"
    }
   ],
   "source": [
    "nConflictsNonConsecutive = nConflictInfo[nConflictInfo.intervalsAreConsectutive == False]['numberOfConflictsPerFlightPair']\n",
    "fig = plt.figure(figsize=(16, 8))\n",
    "ax = fig.add_subplot(1, 1, 1)\n",
    "nConflictsNonConsecutive.hist(bins=[0.5 + i for i in range(1, int(nConflictsNonConsecutive.max()) + 1)], ax=ax);\n",
    "#ax.set_yscale('log')\n",
    "ax.set_title('Number of conflicts per pair of flights in the case of non-consecutive intervals')\n",
    "ax.set_xlabel('Number of conflicts')\n",
    "ax.set_ylabel('Number of pairs of flights');\n",
    "ax.grid('off')"
   ]
  },
  {
   "cell_type": "markdown",
   "metadata": {
    "collapsed": true
   },
   "source": [
    "## Examples of pairs of flights with more than one conflict ##"
   ]
  },
  {
   "cell_type": "code",
   "execution_count": 21,
   "metadata": {
    "collapsed": false
   },
   "outputs": [
    {
     "data": {
      "text/html": [
       "<div>\n",
       "<table border=\"1\" class=\"dataframe\">\n",
       "  <thead>\n",
       "    <tr style=\"text-align: right;\">\n",
       "      <th></th>\n",
       "      <th></th>\n",
       "      <th>numberOfConflictsPerFlightPair</th>\n",
       "      <th>intervalsAreConsectutive</th>\n",
       "    </tr>\n",
       "    <tr>\n",
       "      <th>flight1</th>\n",
       "      <th>flight2</th>\n",
       "      <th></th>\n",
       "      <th></th>\n",
       "    </tr>\n",
       "  </thead>\n",
       "  <tbody>\n",
       "    <tr>\n",
       "      <th>28</th>\n",
       "      <th>37</th>\n",
       "      <td>5</td>\n",
       "      <td>True</td>\n",
       "    </tr>\n",
       "  </tbody>\n",
       "</table>\n",
       "</div>"
      ],
      "text/plain": [
       "                 numberOfConflictsPerFlightPair intervalsAreConsectutive\n",
       "flight1 flight2                                                         \n",
       "28      37                                    5                     True"
      ]
     },
     "execution_count": 21,
     "metadata": {},
     "output_type": "execute_result"
    }
   ],
   "source": [
    "# Filter flight pairs with 5 conflicts\n",
    "nConflictsFive = nConflictInfo[nConflictInfo.numberOfConflictsPerFlightPair == 5]\n",
    "nConflictsFive"
   ]
  },
  {
   "cell_type": "code",
   "execution_count": 22,
   "metadata": {
    "collapsed": false
   },
   "outputs": [
    {
     "data": {
      "text/html": [
       "<div>\n",
       "<table border=\"1\" class=\"dataframe\">\n",
       "  <thead>\n",
       "    <tr style=\"text-align: right;\">\n",
       "      <th></th>\n",
       "      <th>conflictIndex</th>\n",
       "      <th>flight1</th>\n",
       "      <th>flight2</th>\n",
       "      <th>maxTimeDiff</th>\n",
       "      <th>minTimeDiff</th>\n",
       "    </tr>\n",
       "  </thead>\n",
       "  <tbody>\n",
       "    <tr>\n",
       "      <th>1</th>\n",
       "      <td>1</td>\n",
       "      <td>28</td>\n",
       "      <td>37</td>\n",
       "      <td>-20.0</td>\n",
       "      <td>-20.0</td>\n",
       "    </tr>\n",
       "    <tr>\n",
       "      <th>2</th>\n",
       "      <td>2</td>\n",
       "      <td>28</td>\n",
       "      <td>37</td>\n",
       "      <td>-20.0</td>\n",
       "      <td>-20.0</td>\n",
       "    </tr>\n",
       "    <tr>\n",
       "      <th>3</th>\n",
       "      <td>3</td>\n",
       "      <td>28</td>\n",
       "      <td>37</td>\n",
       "      <td>-20.0</td>\n",
       "      <td>-20.0</td>\n",
       "    </tr>\n",
       "    <tr>\n",
       "      <th>212</th>\n",
       "      <td>212</td>\n",
       "      <td>28</td>\n",
       "      <td>37</td>\n",
       "      <td>-20.0</td>\n",
       "      <td>-20.0</td>\n",
       "    </tr>\n",
       "    <tr>\n",
       "      <th>213</th>\n",
       "      <td>213</td>\n",
       "      <td>28</td>\n",
       "      <td>37</td>\n",
       "      <td>-20.0</td>\n",
       "      <td>-20.0</td>\n",
       "    </tr>\n",
       "  </tbody>\n",
       "</table>\n",
       "</div>"
      ],
      "text/plain": [
       "     conflictIndex  flight1  flight2  maxTimeDiff  minTimeDiff\n",
       "1                1       28       37        -20.0        -20.0\n",
       "2                2       28       37        -20.0        -20.0\n",
       "3                3       28       37        -20.0        -20.0\n",
       "212            212       28       37        -20.0        -20.0\n",
       "213            213       28       37        -20.0        -20.0"
      ]
     },
     "execution_count": 22,
     "metadata": {},
     "output_type": "execute_result"
    }
   ],
   "source": [
    "# get example flight pair and show conflicts\n",
    "f1, f2 = nConflictsFive.iloc[0].name\n",
    "conflicts[(conflicts.flight1 == f1) & (conflicts.flight2 == f2)]"
   ]
  },
  {
   "cell_type": "code",
   "execution_count": 23,
   "metadata": {
    "collapsed": false
   },
   "outputs": [
    {
     "data": {
      "text/html": [
       "<div>\n",
       "<table border=\"1\" class=\"dataframe\">\n",
       "  <thead>\n",
       "    <tr style=\"text-align: right;\">\n",
       "      <th></th>\n",
       "      <th></th>\n",
       "      <th>numberOfConflictsPerFlightPair</th>\n",
       "      <th>intervalsAreConsectutive</th>\n",
       "    </tr>\n",
       "    <tr>\n",
       "      <th>flight1</th>\n",
       "      <th>flight2</th>\n",
       "      <th></th>\n",
       "      <th></th>\n",
       "    </tr>\n",
       "  </thead>\n",
       "  <tbody>\n",
       "    <tr>\n",
       "      <th>10</th>\n",
       "      <th>12</th>\n",
       "      <td>2</td>\n",
       "      <td>False</td>\n",
       "    </tr>\n",
       "    <tr>\n",
       "      <th>19</th>\n",
       "      <th>28</th>\n",
       "      <td>2</td>\n",
       "      <td>False</td>\n",
       "    </tr>\n",
       "    <tr>\n",
       "      <th>297</th>\n",
       "      <th>316</th>\n",
       "      <td>2</td>\n",
       "      <td>False</td>\n",
       "    </tr>\n",
       "    <tr>\n",
       "      <th>307</th>\n",
       "      <th>314</th>\n",
       "      <td>3</td>\n",
       "      <td>False</td>\n",
       "    </tr>\n",
       "    <tr>\n",
       "      <th>310</th>\n",
       "      <th>314</th>\n",
       "      <td>2</td>\n",
       "      <td>False</td>\n",
       "    </tr>\n",
       "  </tbody>\n",
       "</table>\n",
       "</div>"
      ],
      "text/plain": [
       "                 numberOfConflictsPerFlightPair intervalsAreConsectutive\n",
       "flight1 flight2                                                         \n",
       "10      12                                    2                    False\n",
       "19      28                                    2                    False\n",
       "297     316                                   2                    False\n",
       "307     314                                   3                    False\n",
       "310     314                                   2                    False"
      ]
     },
     "execution_count": 23,
     "metadata": {},
     "output_type": "execute_result"
    }
   ],
   "source": [
    "# Filter flight pairs with 2 conflicts with non-consecutive intervals\n",
    "nConflictsNonCons = nConflictInfo[nConflictInfo.intervalsAreConsectutive == False]\n",
    "nConflictsNonCons.head()"
   ]
  },
  {
   "cell_type": "code",
   "execution_count": 24,
   "metadata": {
    "collapsed": false
   },
   "outputs": [
    {
     "data": {
      "text/html": [
       "<div>\n",
       "<table border=\"1\" class=\"dataframe\">\n",
       "  <thead>\n",
       "    <tr style=\"text-align: right;\">\n",
       "      <th></th>\n",
       "      <th>conflictIndex</th>\n",
       "      <th>flight1</th>\n",
       "      <th>flight2</th>\n",
       "      <th>maxTimeDiff</th>\n",
       "      <th>minTimeDiff</th>\n",
       "    </tr>\n",
       "  </thead>\n",
       "  <tbody>\n",
       "    <tr>\n",
       "      <th>69</th>\n",
       "      <td>69</td>\n",
       "      <td>10</td>\n",
       "      <td>12</td>\n",
       "      <td>-1.0</td>\n",
       "      <td>-8.0</td>\n",
       "    </tr>\n",
       "    <tr>\n",
       "      <th>70</th>\n",
       "      <td>70</td>\n",
       "      <td>10</td>\n",
       "      <td>12</td>\n",
       "      <td>7.0</td>\n",
       "      <td>1.0</td>\n",
       "    </tr>\n",
       "  </tbody>\n",
       "</table>\n",
       "</div>"
      ],
      "text/plain": [
       "    conflictIndex  flight1  flight2  maxTimeDiff  minTimeDiff\n",
       "69             69       10       12         -1.0         -8.0\n",
       "70             70       10       12          7.0          1.0"
      ]
     },
     "execution_count": 24,
     "metadata": {},
     "output_type": "execute_result"
    }
   ],
   "source": [
    "# get example flight pair and show conflicts\n",
    "f1, f2 = nConflictsNonCons.iloc[0].name\n",
    "conflicts[(conflicts.flight1 == f1) & (conflicts.flight2 == f2)]"
   ]
  },
  {
   "cell_type": "code",
   "execution_count": 31,
   "metadata": {
    "collapsed": false
   },
   "outputs": [
    {
     "data": {
      "image/png": "[encoded data removed]",
      "text/plain": [
       "<matplotlib.figure.Figure at 0x7f74ddff4810>"
      ]
     },
     "metadata": {},
     "output_type": "display_data"
    }
   ],
   "source": [
    "fig = plt.figure(figsize=(16, 6))\n",
    "ax = fig.add_subplot(1, 2, 1)\n",
    "numberOfConflictsPerFlightPair.hist(bins=[0.5 + i for i in range(int(numberOfConflictsPerFlightPair.max()) + 1)], ax=ax, label='Mergeable Conflicts');\n",
    "nConflictsNonConsecutive.hist(bins=[0.5 + i for i in range(1, int(nConflictsNonConsecutive.max()) + 1)], ax=ax, label='Unmergable onflicts');\n",
    "numberOfConflictsPerFlightPair[numberOfConflictsPerFlightPair == 1].hist(bins=[0.5 + i for i in range(int(numberOfConflictsPerFlightPair.max()) + 1)], ax=ax, color='g');\n",
    "\n",
    "ax.set_yscale('log')\n",
    "ax.legend()\n",
    "ax.set_title('Number of conflicts per pair of flights')\n",
    "ax.set_xlabel('Number of conflicts')\n",
    "ax.set_ylabel('Number of pairs of flights');\n",
    "ax.grid('off')\n",
    "ax = fig.add_subplot(1, 2, 2)\n",
    "\n",
    "numberOfConflictsPerFlightPair.hist(bins=[0.5 + i for i in range(int(numberOfConflictsPerFlightPair.max()) + 1)], ax=ax, label='Mergeable conflicts');\n",
    "nConflictsNonConsecutive.hist(bins=[0.5 + i for i in range(1, int(nConflictsNonConsecutive.max()) + 1)], ax=ax, label='Unmergeable conflicts');\n",
    "numberOfConflictsPerFlightPair[numberOfConflictsPerFlightPair == 1].hist(bins=[0.5 + i for i in range(int(numberOfConflictsPerFlightPair.max()) + 1)], ax=ax, color='g');\n",
    "\n",
    "ax.legend()\n",
    "ax.set_ylim(0,50)\n",
    "ax.set_title('Number of conflicts per pair of flights')\n",
    "ax.set_xlabel('Number of conflicts')\n",
    "ax.set_ylabel('Number of pairs of flights');\n",
    "ax.grid('off')\n",
    "\n",
    "pdf = matplotlib.backends.backend_pdf.PdfPages('potential_conflicts_non_overlapping_time_intervals_statistics.pdf');\n",
    "pdf.savefig(figure=fig);\n",
    "pdf.close();"
   ]
  },
  {
   "cell_type": "code",
   "execution_count": null,
   "metadata": {
    "collapsed": true
   },
   "outputs": [],
   "source": []
  }
 ],
 "metadata": {
  "hide_input": false,
  "kernelspec": {
   "display_name": "Python 2",
   "language": "python",
   "name": "python2"
  },
  "language_info": {
   "codemirror_mode": {
    "name": "ipython",
    "version": 2
   },
   "file_extension": ".py",
   "mimetype": "text/x-python",
   "name": "python",
   "nbconvert_exporter": "python",
   "pygments_lexer": "ipython2",
   "version": "2.7.12"
  },
  "latex_envs": {
   "LaTeX_envs_menu_present": true,
   "autocomplete": true,
   "bibliofile": "biblio.bib",
   "cite_by": "apalike",
   "current_citInitial": 1,
   "eqLabelWithNumbers": true,
   "eqNumInitial": 1,
   "hotkeys": {
    "equation": "Ctrl-E",
    "itemize": "Ctrl-I"
   },
   "labels_anchors": false,
   "latex_user_defs": false,
   "report_style_numbering": false,
   "user_envs_cfg": false
  }
 },
 "nbformat": 4,
 "nbformat_minor": 0
}
