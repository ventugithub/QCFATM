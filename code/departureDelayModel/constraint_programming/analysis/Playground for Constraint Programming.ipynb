{
 "cells": [
  {
   "cell_type": "markdown",
   "metadata": {},
   "source": [
    "## Constraint Programming for the departure delay only model ##"
   ]
  },
  {
   "cell_type": "code",
   "execution_count": 1,
   "metadata": {
    "collapsed": true
   },
   "outputs": [],
   "source": [
    "import sys\n",
    "sys.path.append('../../qubo')\n",
    "import pandas as pd\n",
    "import numpy as np\n",
    "import matplotlib.pyplot as plt"
   ]
  },
  {
   "cell_type": "code",
   "execution_count": 2,
   "metadata": {
    "collapsed": false
   },
   "outputs": [],
   "source": [
    "import instance\n",
    "import Numberjack as nj"
   ]
  },
  {
   "cell_type": "code",
   "execution_count": 3,
   "metadata": {
    "collapsed": true
   },
   "outputs": [],
   "source": [
    "deltat = 3"
   ]
  },
  {
   "cell_type": "code",
   "execution_count": 4,
   "metadata": {
    "collapsed": false
   },
   "outputs": [],
   "source": [
    "inst = instance.Instance('../data/instances/atm_instance_partition0046_delayStep006_maxDelay018.h5')"
   ]
  },
  {
   "cell_type": "code",
   "execution_count": 5,
   "metadata": {
    "collapsed": false,
    "scrolled": true
   },
   "outputs": [
    {
     "name": "stdout",
     "output_type": "stream",
     "text": [
      "64 261\n"
     ]
    }
   ],
   "source": [
    "Nf = len(inst.flights)\n",
    "Nk = len(inst.conflicts)\n",
    "print Nf, Nk"
   ]
  },
  {
   "cell_type": "code",
   "execution_count": 6,
   "metadata": {
    "collapsed": false
   },
   "outputs": [],
   "source": [
    "Nd = len(inst.delays)\n",
    "delayStep = inst.delays[1] - inst.delays[0]\n",
    "# check if delays were equidistant\n",
    "assert(all(np.array(inst.delays) / delayStep == np.arange(Nd)))"
   ]
  },
  {
   "cell_type": "code",
   "execution_count": 7,
   "metadata": {
    "collapsed": false
   },
   "outputs": [
    {
     "data": {
      "text/plain": [
       "3.0"
      ]
     },
     "execution_count": 7,
     "metadata": {},
     "output_type": "execute_result"
    }
   ],
   "source": [
    "18./6"
   ]
  },
  {
   "cell_type": "code",
   "execution_count": 8,
   "metadata": {
    "collapsed": true
   },
   "outputs": [],
   "source": [
    "maxDelay = 18\n",
    "Nd = 6\n",
    "delayStep = float(maxDelay)/Nd"
   ]
  },
  {
   "cell_type": "code",
   "execution_count": 9,
   "metadata": {
    "collapsed": false
   },
   "outputs": [],
   "source": [
    "d = nj.VarArray(Nf, Nd)"
   ]
  },
  {
   "cell_type": "code",
   "execution_count": 10,
   "metadata": {
    "collapsed": false
   },
   "outputs": [],
   "source": [
    "model = nj.Model()\n",
    "model += nj.Minimise(nj.Sum(d))\n",
    "for k in range(Nk):\n",
    "    dtmin = int(inst.timeLimits[k][0])\n",
    "    dtmax = int(inst.timeLimits[k][0])\n",
    "    f1 = int(inst.conflicts[k][0])\n",
    "    f2 = int(inst.conflicts[k][1])\n",
    "    i = int(inst.flights.index(f1))\n",
    "    j = int(inst.flights.index(f2))\n",
    "    constraint1 = maxDelay * (d[i] - d[j]) >= Nd * (deltat - dtmin)\n",
    "    constraint2 = maxDelay * (d[i] - d[j]) <= - Nd * (deltat + dtmax)\n",
    "    model += nj.Disjunction([constraint1, constraint2])"
   ]
  },
  {
   "cell_type": "code",
   "execution_count": 11,
   "metadata": {
    "collapsed": false
   },
   "outputs": [],
   "source": [
    "solver = model.load(\"CPLEX\")\n",
    "solver.setVerbosity(1)"
   ]
  },
  {
   "cell_type": "code",
   "execution_count": null,
   "metadata": {
    "collapsed": true
   },
   "outputs": [],
   "source": []
  },
  {
   "cell_type": "code",
   "execution_count": null,
   "metadata": {
    "collapsed": false
   },
   "outputs": [],
   "source": [
    "solver.solve()"
   ]
  },
  {
   "cell_type": "code",
   "execution_count": 13,
   "metadata": {
    "collapsed": false
   },
   "outputs": [],
   "source": [
    "sol = solver"
   ]
  },
  {
   "cell_type": "code",
   "execution_count": 14,
   "metadata": {
    "collapsed": false
   },
   "outputs": [],
   "source": [
    "s = d.solution()\n",
    "solution = [int(i) for i in s.strip(\"[]\").split(', ')]"
   ]
  },
  {
   "cell_type": "code",
   "execution_count": 15,
   "metadata": {
    "collapsed": false
   },
   "outputs": [
    {
     "data": {
      "image/png": "[encoded data removed]",
      "text/plain": [
       "<matplotlib.figure.Figure at 0x7faf419d6410>"
      ]
     },
     "metadata": {},
     "output_type": "display_data"
    }
   ],
   "source": [
    "%matplotlib inline\n",
    "plt.plot(solution);"
   ]
  },
  {
   "cell_type": "code",
   "execution_count": 16,
   "metadata": {
    "collapsed": false
   },
   "outputs": [
    {
     "name": "stdout",
     "output_type": "stream",
     "text": [
      "Total delay = 1\n"
     ]
    }
   ],
   "source": [
    "totaldelay = 0\n",
    "for k in range(Nf):\n",
    "    totaldelay += solution[k]\n",
    "print \"Total delay =\", totaldelay"
   ]
  },
  {
   "cell_type": "code",
   "execution_count": 17,
   "metadata": {
    "collapsed": false
   },
   "outputs": [
    {
     "name": "stdout",
     "output_type": "stream",
     "text": [
      "All valid =  True\n"
     ]
    }
   ],
   "source": [
    "allvalid = []\n",
    "for k in range(Nk):\n",
    "    dtmin = int(inst.timeLimits[k][0])\n",
    "    dtmax = int(inst.timeLimits[k][0])\n",
    "    f1 = int(inst.conflicts[k][0])\n",
    "    f2 = int(inst.conflicts[k][1])\n",
    "    i = int(inst.flights.index(f1))\n",
    "    j = int(inst.flights.index(f2))\n",
    "    diff = delayStep * (solution[i] - solution[j]) \n",
    "    constraint1 = delayStep * (solution[i] - solution[j]) >= deltat - dtmin\n",
    "    constraint2 = delayStep * (solution[i] - solution[j]) <= - deltat - dtmax\n",
    "    valid = True if (constraint1 or constraint2) else False\n",
    "    if not valid:\n",
    "        print  deltat - dtmin, \"<\", diff, \" or \", diff, \"<\", -deltat - dtmax, valid, \"( dtmin =\", dtmin, \"dtmax =\", dtmax, \")\"\n",
    "print \"All valid = \", all(allvalid)\n"
   ]
  },
  {
   "cell_type": "code",
   "execution_count": 18,
   "metadata": {
    "collapsed": false
   },
   "outputs": [
    {
     "data": {
      "image/png": "[encoded data removed]",
      "text/plain": [
       "<matplotlib.figure.Figure at 0x7faf3f072b90>"
      ]
     },
     "metadata": {},
     "output_type": "display_data"
    }
   ],
   "source": [
    "plt.plot(np.array(inst.timeLimits)[:,0], 'o-')\n",
    "plt.plot(np.array(inst.timeLimits)[:,1], 'o-');"
   ]
  },
  {
   "cell_type": "markdown",
   "metadata": {
    "collapsed": true
   },
   "source": [
    "## Continuous delays ##"
   ]
  },
  {
   "cell_type": "code",
   "execution_count": 19,
   "metadata": {
    "collapsed": true
   },
   "outputs": [],
   "source": [
    "deltat = 3.0"
   ]
  },
  {
   "cell_type": "code",
   "execution_count": 20,
   "metadata": {
    "collapsed": false,
    "scrolled": true
   },
   "outputs": [
    {
     "name": "stdout",
     "output_type": "stream",
     "text": [
      "2 2\n"
     ]
    }
   ],
   "source": [
    "Nf = len(inst.flights)\n",
    "Nk = len(inst.conflicts)\n",
    "print Nf, Nk"
   ]
  },
  {
   "cell_type": "code",
   "execution_count": 52,
   "metadata": {
    "collapsed": true
   },
   "outputs": [],
   "source": [
    "maxDelay = 2"
   ]
  },
  {
   "cell_type": "code",
   "execution_count": 47,
   "metadata": {
    "collapsed": false
   },
   "outputs": [],
   "source": [
    "d = nj.VarArray(Nf, 0.0, maxDelay)"
   ]
  },
  {
   "cell_type": "code",
   "execution_count": 48,
   "metadata": {
    "collapsed": false
   },
   "outputs": [],
   "source": [
    "model = nj.Model()\n",
    "model += nj.Minimise(nj.Sum(d))\n",
    "for k in range(Nk):\n",
    "    dtmin = int(inst.timeLimits[k][0])\n",
    "    dtmax = int(inst.timeLimits[k][0])\n",
    "    f1 = int(inst.conflicts[k][0])\n",
    "    f2 = int(inst.conflicts[k][1])\n",
    "    i = int(inst.flights.index(f1))\n",
    "    j = int(inst.flights.index(f2))\n",
    "    constraint1 = (d[i] - d[j]) > (deltat - dtmin)\n",
    "    constraint2 = (d[i] - d[j]) < - (deltat + dtmax)\n",
    "    model += nj.Disjunction([constraint1, constraint2])"
   ]
  },
  {
   "cell_type": "code",
   "execution_count": 49,
   "metadata": {
    "collapsed": false
   },
   "outputs": [],
   "source": [
    "solver = model.load(\"CPLEX\")\n",
    "solver.setVerbosity(1)"
   ]
  },
  {
   "cell_type": "code",
   "execution_count": 50,
   "metadata": {
    "collapsed": false
   },
   "outputs": [
    {
     "data": {
      "text/plain": [
       "False"
      ]
     },
     "execution_count": 50,
     "metadata": {},
     "output_type": "execute_result"
    }
   ],
   "source": [
    "solver.solve()"
   ]
  },
  {
   "cell_type": "code",
   "execution_count": 51,
   "metadata": {
    "collapsed": false
   },
   "outputs": [
    {
     "ename": "ValueError",
     "evalue": "could not convert string to float: None",
     "output_type": "error",
     "traceback": [
      "\u001b[0;31m---------------------------------------------------------------------------\u001b[0m",
      "\u001b[0;31mValueError\u001b[0m                                Traceback (most recent call last)",
      "\u001b[0;32m<ipython-input-51-6631c708a755>\u001b[0m in \u001b[0;36m<module>\u001b[0;34m()\u001b[0m\n\u001b[1;32m      1\u001b[0m \u001b[0ms\u001b[0m \u001b[0;34m=\u001b[0m \u001b[0md\u001b[0m\u001b[0;34m.\u001b[0m\u001b[0msolution\u001b[0m\u001b[0;34m(\u001b[0m\u001b[0;34m)\u001b[0m\u001b[0;34m\u001b[0m\u001b[0m\n\u001b[0;32m----> 2\u001b[0;31m \u001b[0msolution\u001b[0m \u001b[0;34m=\u001b[0m \u001b[0;34m[\u001b[0m\u001b[0mfloat\u001b[0m\u001b[0;34m(\u001b[0m\u001b[0mi\u001b[0m\u001b[0;34m)\u001b[0m \u001b[0;32mfor\u001b[0m \u001b[0mi\u001b[0m \u001b[0;32min\u001b[0m \u001b[0ms\u001b[0m\u001b[0;34m.\u001b[0m\u001b[0mstrip\u001b[0m\u001b[0;34m(\u001b[0m\u001b[0;34m\"[]\"\u001b[0m\u001b[0;34m)\u001b[0m\u001b[0;34m.\u001b[0m\u001b[0msplit\u001b[0m\u001b[0;34m(\u001b[0m\u001b[0;34m', '\u001b[0m\u001b[0;34m)\u001b[0m\u001b[0;34m]\u001b[0m\u001b[0;34m\u001b[0m\u001b[0m\n\u001b[0m",
      "\u001b[0;31mValueError\u001b[0m: could not convert string to float: None"
     ]
    }
   ],
   "source": [
    "s = d.solution()\n",
    "solution = [float(i) for i in s.strip(\"[]\").split(', ')]"
   ]
  },
  {
   "cell_type": "code",
   "execution_count": 45,
   "metadata": {
    "collapsed": false
   },
   "outputs": [
    {
     "data": {
      "image/png": "[encoded data removed]",
      "text/plain": [
       "<matplotlib.figure.Figure at 0x7faf3847c790>"
      ]
     },
     "metadata": {},
     "output_type": "display_data"
    }
   ],
   "source": [
    "%matplotlib inline\n",
    "plt.plot(solution);"
   ]
  },
  {
   "cell_type": "code",
   "execution_count": 37,
   "metadata": {
    "collapsed": false
   },
   "outputs": [
    {
     "name": "stdout",
     "output_type": "stream",
     "text": [
      "Total delay = 2.0\n"
     ]
    }
   ],
   "source": [
    "totaldelay = 0\n",
    "for k in range(Nf):\n",
    "    totaldelay += solution[k]\n",
    "print \"Total delay =\", totaldelay"
   ]
  },
  {
   "cell_type": "code",
   "execution_count": 38,
   "metadata": {
    "collapsed": false
   },
   "outputs": [
    {
     "name": "stdout",
     "output_type": "stream",
     "text": [
      "All valid =  True\n"
     ]
    }
   ],
   "source": [
    "allvalid = []\n",
    "for k in range(Nk):\n",
    "    dtmin = int(inst.timeLimits[k][0])\n",
    "    dtmax = int(inst.timeLimits[k][0])\n",
    "    f1 = int(inst.conflicts[k][0])\n",
    "    f2 = int(inst.conflicts[k][1])\n",
    "    i = int(inst.flights.index(f1))\n",
    "    j = int(inst.flights.index(f2))\n",
    "    diff = (solution[i] - solution[j]) \n",
    "    constraint1 = (solution[i] - solution[j]) >= deltat - dtmin\n",
    "    constraint2 = (solution[i] - solution[j]) <= - deltat - dtmax\n",
    "    valid = True if (constraint1 or constraint2) else False\n",
    "    if not valid:\n",
    "        print  deltat - dtmin, \"<\", diff, \" or \", diff, \"<\", -deltat - dtmax, valid, \"( dtmin =\", dtmin, \"dtmax =\", dtmax, \")\"\n",
    "print \"All valid = \", all(allvalid)\n"
   ]
  },
  {
   "cell_type": "code",
   "execution_count": null,
   "metadata": {
    "collapsed": true
   },
   "outputs": [],
   "source": []
  },
  {
   "cell_type": "code",
   "execution_count": null,
   "metadata": {
    "collapsed": true
   },
   "outputs": [],
   "source": []
  }
 ],
 "metadata": {
  "kernelspec": {
   "display_name": "Python 2",
   "language": "python",
   "name": "python2"
  },
  "language_info": {
   "codemirror_mode": {
    "name": "ipython",
    "version": 2
   },
   "file_extension": ".py",
   "mimetype": "text/x-python",
   "name": "python",
   "nbconvert_exporter": "python",
   "pygments_lexer": "ipython2",
   "version": "2.7.12"
  }
 },
 "nbformat": 4,
 "nbformat_minor": 0
}
